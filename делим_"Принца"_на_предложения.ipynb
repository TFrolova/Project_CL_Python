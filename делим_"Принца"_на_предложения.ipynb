{
  "nbformat": 4,
  "nbformat_minor": 0,
  "metadata": {
    "colab": {
      "provenance": [],
      "authorship_tag": "ABX9TyNluN6cZzfkIM6QDYwZ+rvd",
      "include_colab_link": true
    },
    "kernelspec": {
      "name": "python3",
      "display_name": "Python 3"
    },
    "language_info": {
      "name": "python"
    }
  },
  "cells": [
    {
      "cell_type": "markdown",
      "metadata": {
        "id": "view-in-github",
        "colab_type": "text"
      },
      "source": [
        "<a href=\"https://colab.research.google.com/github/TFrolova/Project_CL_Python/blob/main/%D0%B4%D0%B5%D0%BB%D0%B8%D0%BC_%22%D0%9F%D1%80%D0%B8%D0%BD%D1%86%D0%B0%22_%D0%BD%D0%B0_%D0%BF%D1%80%D0%B5%D0%B4%D0%BB%D0%BE%D0%B6%D0%B5%D0%BD%D0%B8%D1%8F.ipynb\" target=\"_parent\"><img src=\"https://colab.research.google.com/assets/colab-badge.svg\" alt=\"Open In Colab\"/></a>"
      ]
    },
    {
      "cell_type": "markdown",
      "source": [
        "Это упражнение по работе с документом.\n",
        "Мне нужно из большого текста сделать столько файлов, сколько в нем предложений.\n",
        "Причем сделать так, чтобы каждый файл можно было сохранить с расширением tgt и он бы представлял собой размеченный xml-документ.\n",
        "\n",
        "\n",
        "\n",
        "\n",
        "Для этого нужно для каждого предложения сделать вот что:\n",
        "1. скопировать первые две строчки большого файла и записать их в новый файл\n",
        "2. добавить туда следующей строчкой открывающий тег \\<body>\n",
        "3. Скопировать и записать следом в этот новый файл кусочек от начала открывающего тега \\<S> до закрывающего тега \\</S>.\n",
        "4. скопировать туда же последние две строчки файла:\n",
        "\\</body> и \n",
        "\\</text>\n",
        "5. Сохранить файл, дав ему название, которое формируется таким образом:\n",
        "\n",
        "  a. номер, взятый из ID внутри открывающего тега \\<s>;\n",
        "\n",
        "  b. Само предложение. Для этого из тегов \\</w>  вытащить то, что стоит прямо перед ним;\n",
        "\n",
        "  c. Нижнее подчеркивание\n",
        "\n",
        "  d. расширение tgt\n",
        "\n",
        "6. Все эти файлы записать в какую-то одну папку"
      ],
      "metadata": {
        "id": "ZSBrq00-9CAy"
      }
    },
    {
      "cell_type": "code",
      "execution_count": 46,
      "metadata": {
        "colab": {
          "base_uri": "https://localhost:8080/"
        },
        "id": "mC1o2BQLTvxs",
        "outputId": "57b8d801-9880-4ddd-e99e-3343e0823de4"
      },
      "outputs": [
        {
          "output_type": "stream",
          "name": "stdout",
          "text": [
            "Drive already mounted at /content/drive; to attempt to forcibly remount, call drive.mount(\"/content/drive\", force_remount=True).\n",
            "﻿<?xml version=\"1.0\"\n"
          ]
        }
      ],
      "source": [
        "#открыть файл\n",
        "from google.colab import drive\n",
        "drive.mount('/content/drive')\n",
        "with open ('/content/drive/MyDrive/texts/Malenkii_prints_copy_1.txt', 'r', encoding='UTF8') as f:\n",
        "  p_text=f.read()\n",
        "print(p_text[:20])"
      ]
    },
    {
      "cell_type": "code",
      "source": [
        "# скопировать первые две строчки и напечатать\n",
        "# первый вариант: посчитаем сколько это знаков\n",
        "print(p_text[:453])\n",
        "print('<body>')\n",
        "print('</body>')\n",
        "print('</text>')"
      ],
      "metadata": {
        "colab": {
          "base_uri": "https://localhost:8080/"
        },
        "id": "Km7V-Jd04RPY",
        "outputId": "6173117e-dbdd-4bac-ba9a-03dc6a2cb41b"
      },
      "execution_count": 47,
      "outputs": [
        {
          "output_type": "stream",
          "name": "stdout",
          "text": [
            "﻿<?xml version=\"1.0\" encoding=\"utf-8\" standalone=\"no\"?>\n",
            "<text CRDATE=\"15 08 2020 01:22:02\" PARAMS=\"ETAPOPTION=RO; DOMAINS=COMMON-DOMAIN; LEVEL=$TRUE; PARAFR=$FALSE; STAT=N; SENTFEATS=STDSENT; SYNTMODE=STDSYNT; USESTAT=USESTATNO; USENER=$FALSE; NERMODE=DEFAULTNER; ALTTR=$TRUE; MWORDFORM=$TRUE; SYNTAXONLY=$FALSE; SOFTSENTBR=$FALSE; EXPERMODE=EXPER_OFF; DISAMBMODE=DISAMB_OFF; MAXALTNUM=NORMALNUM; SPEECHMODE=SPEECHMODENO; JOFICATION=$FALSE; \" ver=\"1.1\">\n",
            "<body>\n",
            "</body>\n",
            "</text>\n"
          ]
        }
      ]
    },
    {
      "cell_type": "code",
      "source": [
        "# делаю папку, в которую буду складывать файлы предложений\n",
        "import os\n",
        "os.mkdir('/content/drive/MyDrive/texts/Le petit prince sentences')"
      ],
      "metadata": {
        "id": "lijM351jOx28",
        "colab": {
          "base_uri": "https://localhost:8080/",
          "height": 191
        },
        "outputId": "2d3086ed-9e56-4160-88da-bec531e466a3"
      },
      "execution_count": 4,
      "outputs": [
        {
          "output_type": "error",
          "ename": "FileExistsError",
          "evalue": "ignored",
          "traceback": [
            "\u001b[0;31m---------------------------------------------------------------------------\u001b[0m",
            "\u001b[0;31mFileExistsError\u001b[0m                           Traceback (most recent call last)",
            "\u001b[0;32m<ipython-input-4-50d26a3219dd>\u001b[0m in \u001b[0;36m<module>\u001b[0;34m\u001b[0m\n\u001b[1;32m      1\u001b[0m \u001b[0;31m# делаю папку, в которую буду складывать файлы предложений\u001b[0m\u001b[0;34m\u001b[0m\u001b[0;34m\u001b[0m\u001b[0;34m\u001b[0m\u001b[0m\n\u001b[1;32m      2\u001b[0m \u001b[0;32mimport\u001b[0m \u001b[0mos\u001b[0m\u001b[0;34m\u001b[0m\u001b[0;34m\u001b[0m\u001b[0m\n\u001b[0;32m----> 3\u001b[0;31m \u001b[0mos\u001b[0m\u001b[0;34m.\u001b[0m\u001b[0mmkdir\u001b[0m\u001b[0;34m(\u001b[0m\u001b[0;34m'/content/drive/MyDrive/texts/Le petit prince sentences'\u001b[0m\u001b[0;34m)\u001b[0m\u001b[0;34m\u001b[0m\u001b[0;34m\u001b[0m\u001b[0m\n\u001b[0m",
            "\u001b[0;31mFileExistsError\u001b[0m: [Errno 17] File exists: '/content/drive/MyDrive/texts/Le petit prince sentences'"
          ]
        }
      ]
    },
    {
      "cell_type": "code",
      "source": [
        "# эти две строчки сохранить в новый текстовый файл\n",
        "with open(\"/content/drive/MyDrive/texts/Le petit prince sentences/new_text.txt\",'w') as file:\n",
        "    file.write(p_text[:454])\n",
        "    file.write('<body>\\n')\n",
        "    file.write('</body>\\n')\n",
        "    file.write('</text>')"
      ],
      "metadata": {
        "id": "-KV9yeQB7Se9"
      },
      "execution_count": 48,
      "outputs": []
    },
    {
      "cell_type": "code",
      "source": [
        "# второй вариант: как написать, что надо скопировать строчки\n",
        "# третий вариант: как написать, что надо скопировать то, что в первом теге и то, что в теге <text>\n",
        "#   a. при помощи регулярного выражения\n",
        "#   b. при помощи библиотеки, работающей с разметкой xml"
      ],
      "metadata": {
        "id": "WwnLNjsS5kia"
      },
      "execution_count": null,
      "outputs": []
    },
    {
      "cell_type": "code",
      "source": [
        "# библиотека для работы с xml от Ланы, может есть другая попроще или более приспособленная к моей задаче?\n",
        "import xml.etree.ElementTree as ET"
      ],
      "metadata": {
        "id": "qBRsXR7H886b"
      },
      "execution_count": 49,
      "outputs": []
    },
    {
      "cell_type": "code",
      "source": [
        "tree = ET.parse('/content/drive/MyDrive/texts/Malenkii_prints_copy_1.txt')\n",
        "root = tree.getroot()"
      ],
      "metadata": {
        "id": "9ljVxZTAX38r"
      },
      "execution_count": 50,
      "outputs": []
    },
    {
      "cell_type": "code",
      "source": [
        "# это команда для чтения из самого большого тега:\n",
        "root = ET.fromstring(p_text)\n",
        "\n",
        "# смотрим, как называется главный тег\n",
        "root.tag"
      ],
      "metadata": {
        "colab": {
          "base_uri": "https://localhost:8080/",
          "height": 34
        },
        "id": "1J03Td76VAiw",
        "outputId": "4688e25a-6524-49e2-c538-d3d22cf47d09"
      },
      "execution_count": 52,
      "outputs": [
        {
          "output_type": "execute_result",
          "data": {
            "text/plain": [
              "'text'"
            ],
            "application/vnd.google.colaboratory.intrinsic+json": {
              "type": "string"
            }
          },
          "metadata": {},
          "execution_count": 52
        }
      ]
    },
    {
      "cell_type": "code",
      "source": [
        "# какие есть в главном теге атрибуты\n",
        "root.attrib"
      ],
      "metadata": {
        "colab": {
          "base_uri": "https://localhost:8080/"
        },
        "id": "3Sz03cH4W-Us",
        "outputId": "c4b7ec2f-03ee-4c6a-c720-85617253d932"
      },
      "execution_count": 53,
      "outputs": [
        {
          "output_type": "execute_result",
          "data": {
            "text/plain": [
              "{'CRDATE': '15 08 2020 01:22:02',\n",
              " 'PARAMS': 'ETAPOPTION=RO; DOMAINS=COMMON-DOMAIN; LEVEL=$TRUE; PARAFR=$FALSE; STAT=N; SENTFEATS=STDSENT; SYNTMODE=STDSYNT; USESTAT=USESTATNO; USENER=$FALSE; NERMODE=DEFAULTNER; ALTTR=$TRUE; MWORDFORM=$TRUE; SYNTAXONLY=$FALSE; SOFTSENTBR=$FALSE; EXPERMODE=EXPER_OFF; DISAMBMODE=DISAMB_OFF; MAXALTNUM=NORMALNUM; SPEECHMODE=SPEECHMODENO; JOFICATION=$FALSE; ',\n",
              " 'ver': '1.1'}"
            ]
          },
          "metadata": {},
          "execution_count": 53
        }
      ]
    },
    {
      "cell_type": "code",
      "source": [
        "# Какие есть теги внутри главного\n",
        "for child in root:\n",
        "     print(child.tag)\n",
        "              #, child.attrib)"
      ],
      "metadata": {
        "colab": {
          "base_uri": "https://localhost:8080/"
        },
        "id": "TyeGHazmXKTm",
        "outputId": "5512595c-70ac-46fd-918a-ef31511160bd"
      },
      "execution_count": 54,
      "outputs": [
        {
          "output_type": "stream",
          "name": "stdout",
          "text": [
            "inf\n",
            "body\n"
          ]
        }
      ]
    },
    {
      "cell_type": "code",
      "source": [
        "# сохраним содержимое второго тега в переменную body (по названию тега)\n",
        "body = root[1]"
      ],
      "metadata": {
        "id": "hQN75UuHYeeh"
      },
      "execution_count": 55,
      "outputs": []
    },
    {
      "cell_type": "code",
      "source": [
        "# посмотрим, какой у body первый подтег и какие у этого первого ребенка есть атрибуты\n",
        "print(body[0].tag)\n",
        "print(body[0].attrib)"
      ],
      "metadata": {
        "colab": {
          "base_uri": "https://localhost:8080/"
        },
        "id": "l4FKzd92Y5Cy",
        "outputId": "b9a1c45e-2be8-4098-e66a-140d6a3310ba"
      },
      "execution_count": 56,
      "outputs": [
        {
          "output_type": "stream",
          "name": "stdout",
          "text": [
            "S\n",
            "{'COMMENT': 'traced', 'DATE': '27 12 2022 15:10:34', 'ID': '1', 'TRANS': '// Basic semantic structure\\nHuman human_1_1\\n  hasFamilyName \"Saint-exupery\"\\n  hasGender Male\\n  hasGivenName \"Antoine\".\\n\\n\\n// Intermediate semantic structure\\nHuman human_1_1\\n  hasFamilyName \"Saint-exupery\"\\n  hasGender Male\\n  hasGivenName \"Antoine\".\\n\\n\\n// Enhanced semantic structure, i. e. inferences\\n\\n\\n'}\n"
          ]
        }
      ]
    },
    {
      "cell_type": "code",
      "source": [
        "# прочитали и сделали дерево из маленького файла (перые и последние строки)\n",
        "sample_tree = ET.parse('/content/drive/MyDrive/texts/Le petit prince sentences/new_text.txt')"
      ],
      "metadata": {
        "id": "ogGAoLWOmKb-"
      },
      "execution_count": 57,
      "outputs": []
    },
    {
      "cell_type": "code",
      "source": [
        "# посмотрели, какой в нем главный тег\n",
        "sample_root = sample_tree.getroot()\n",
        "sample_root.tag"
      ],
      "metadata": {
        "colab": {
          "base_uri": "https://localhost:8080/",
          "height": 34
        },
        "id": "6Gbc-vw5a9zv",
        "outputId": "6db97555-937d-46ad-ebed-a7e96a6d976e"
      },
      "execution_count": 58,
      "outputs": [
        {
          "output_type": "execute_result",
          "data": {
            "text/plain": [
              "'text'"
            ],
            "application/vnd.google.colaboratory.intrinsic+json": {
              "type": "string"
            }
          },
          "metadata": {},
          "execution_count": 58
        }
      ]
    },
    {
      "cell_type": "code",
      "source": [
        "# первый элемент из главного тега - body, мы его  записали в переменную sample_body\n",
        "sample_body = sample_root[0]\n",
        "sample_body.tag"
      ],
      "metadata": {
        "colab": {
          "base_uri": "https://localhost:8080/",
          "height": 34
        },
        "id": "3KFY-R3Ii9qH",
        "outputId": "b5b77417-68eb-4aa9-a8bc-1a59e749ecbe"
      },
      "execution_count": 59,
      "outputs": [
        {
          "output_type": "execute_result",
          "data": {
            "text/plain": [
              "'body'"
            ],
            "application/vnd.google.colaboratory.intrinsic+json": {
              "type": "string"
            }
          },
          "metadata": {},
          "execution_count": 59
        }
      ]
    },
    {
      "cell_type": "code",
      "source": [
        "# добавили внутрь тега, сохраненного в sample_body, то, что хранилось в первом элементе тега body большого файла\n",
        "sample_body.append(body[0])\n"
      ],
      "metadata": {
        "id": "ABz21yMPjqms"
      },
      "execution_count": 60,
      "outputs": []
    },
    {
      "cell_type": "code",
      "source": [
        "# распечатали то, что получилось странной командой dump\n",
        "ET.dump(sample_tree)"
      ],
      "metadata": {
        "colab": {
          "base_uri": "https://localhost:8080/"
        },
        "id": "vaMNQT-wljFP",
        "outputId": "b61a2e05-c488-45f8-8c56-ce558cca23b2"
      },
      "execution_count": 61,
      "outputs": [
        {
          "output_type": "stream",
          "name": "stdout",
          "text": [
            "<text CRDATE=\"15 08 2020 01:22:02\" PARAMS=\"ETAPOPTION=RO; DOMAINS=COMMON-DOMAIN; LEVEL=$TRUE; PARAFR=$FALSE; STAT=N; SENTFEATS=STDSENT; SYNTMODE=STDSYNT; USESTAT=USESTATNO; USENER=$FALSE; NERMODE=DEFAULTNER; ALTTR=$TRUE; MWORDFORM=$TRUE; SYNTAXONLY=$FALSE; SOFTSENTBR=$FALSE; EXPERMODE=EXPER_OFF; DISAMBMODE=DISAMB_OFF; MAXALTNUM=NORMALNUM; SPEECHMODE=SPEECHMODENO; JOFICATION=$FALSE; \" ver=\"1.1\">\n",
            "<body>\n",
            "<S COMMENT=\"traced\" DATE=\"27 12 2022 15:10:34\" ID=\"1\" TRANS=\"// Basic semantic structure&#10;Human human_1_1&#10;  hasFamilyName &quot;Saint-exupery&quot;&#10;  hasGender Male&#10;  hasGivenName &quot;Antoine&quot;.&#10;&#10;&#10;// Intermediate semantic structure&#10;Human human_1_1&#10;  hasFamilyName &quot;Saint-exupery&quot;&#10;  hasGender Male&#10;  hasGivenName &quot;Antoine&quot;.&#10;&#10;&#10;// Enhanced semantic structure, i. e. inferences&#10;&#10;&#10;\">\n",
            "<W DOM=\"_root\" EXTRAFEAT=\"CAP ЗЕРО\" FEAT=\"S ЕД МУЖ ИМ ОД\" HYPOT=\"root\" ID=\"1\" KSNAME=\"АНТУАН\" LEMMA=\"АНТУАН\">Антуан</W> \n",
            "<W DOM=\"3\" FEAT=\"PART\" HYPOT=\"вспом.d0\" ID=\"2\" KSNAME=\"ДЕ1\" LEMMA=\"ДЕ\" LINK=\"вспом\">де</W> \n",
            "<W DOM=\"1\" EXTRAFEAT=\"CAP ЗЕРО\" FEAT=\"S ЕД МУЖ ИМ ОД\" HYPOT=\"аппоз.01\" ID=\"3\" KSNAME=\"СЕНТ-ЭКЗЮПЕРИ\" LEMMA=\"СЕНТ-ЭКЗЮПЕРИ\" LINK=\"аппоз\">Сент-Экзюпери</W>.\n",
            "<SEM>\n",
            "<N ID=\"1\" TYPE=\"anonymous\" VALUE=\"Human\">\n",
            "<R LINK=\"hasFamilyName\" TO=\"6\" />\n",
            "<R LINK=\"hasGender\" TO=\"4\" />\n",
            "<R LINK=\"hasGivenName\" TO=\"5\" />\n",
            "</N>\n",
            "<N ID=\"4\" TYPE=\"named\" VALUE=\"Male\" />\n",
            "<N ID=\"5\" TYPE=\"literal\" VALUE=\"&quot;Antoine&quot;\" />\n",
            "<N ID=\"6\" TYPE=\"literal\" VALUE=\"&quot;Saint-exupery&quot;\" />\n",
            "</SEM>\n",
            "</S>\n",
            "</body>\n",
            "</text>\n"
          ]
        }
      ]
    },
    {
      "cell_type": "code",
      "source": [
        "# записываем полученное дерево в файл\n",
        "sample_tree.write('1 Антуан де Сент_.tgt', encoding='utf-8', xml_declaration=True)"
      ],
      "metadata": {
        "id": "wuAJHT5bnVpw"
      },
      "execution_count": 45,
      "outputs": []
    },
    {
      "cell_type": "code",
      "source": [
        "# как сделать заголовок\n",
        "# как вытащить номер?\n",
        "# посмотрим, какие атрибуты есть внутри тега S\n",
        "sample_body[0].attrib"
      ],
      "metadata": {
        "colab": {
          "base_uri": "https://localhost:8080/"
        },
        "id": "-Px9Q__mn6Xw",
        "outputId": "1800f587-1720-4526-db85-93cd00322927"
      },
      "execution_count": 67,
      "outputs": [
        {
          "output_type": "execute_result",
          "data": {
            "text/plain": [
              "{'COMMENT': 'traced',\n",
              " 'DATE': '27 12 2022 15:10:34',\n",
              " 'ID': '1',\n",
              " 'TRANS': '// Basic semantic structure\\nHuman human_1_1\\n  hasFamilyName \"Saint-exupery\"\\n  hasGender Male\\n  hasGivenName \"Antoine\".\\n\\n\\n// Intermediate semantic structure\\nHuman human_1_1\\n  hasFamilyName \"Saint-exupery\"\\n  hasGender Male\\n  hasGivenName \"Antoine\".\\n\\n\\n// Enhanced semantic structure, i. e. inferences\\n\\n\\n'}"
            ]
          },
          "metadata": {},
          "execution_count": 67
        }
      ]
    },
    {
      "cell_type": "code",
      "source": [
        "# в атрибуте ID лежит номер предложения, кажется, он устроен как словарь\n",
        "# пробуем вытащить значение по ключу\n",
        "sample_body[0].attrib['ID']"
      ],
      "metadata": {
        "colab": {
          "base_uri": "https://localhost:8080/",
          "height": 34
        },
        "id": "3MolVqzFJkHN",
        "outputId": "8f4727fc-59b6-4644-ce27-a0b987c766b6"
      },
      "execution_count": 65,
      "outputs": [
        {
          "output_type": "execute_result",
          "data": {
            "text/plain": [
              "'1'"
            ],
            "application/vnd.google.colaboratory.intrinsic+json": {
              "type": "string"
            }
          },
          "metadata": {},
          "execution_count": 65
        }
      ]
    },
    {
      "cell_type": "code",
      "source": [
        "# теперь нужно вытащить слова из тега W\n",
        "# сохраним содержимое второго тега в переменную sentence (по названию тега)\n",
        "sentence = body[0]\n",
        "\n",
        "# посмотрим, какой у sentence первый подтег и какие у этого первого ребенка есть атрибуты\n",
        "print(sentence[0].tag)\n",
        "print(sentence[0].attrib)\n",
        "\n",
        "# текст в теге без атрибутов вынимается при помощи .text\n",
        "print(sentence[0].text)"
      ],
      "metadata": {
        "colab": {
          "base_uri": "https://localhost:8080/"
        },
        "id": "z6PvK_ngKZrU",
        "outputId": "1a9892cd-7d4d-4eca-fdf3-4cd015e3e682"
      },
      "execution_count": 75,
      "outputs": [
        {
          "output_type": "stream",
          "name": "stdout",
          "text": [
            "W\n",
            "{'DOM': '_root', 'EXTRAFEAT': 'CAP ЗЕРО', 'FEAT': 'S ЕД МУЖ ИМ ОД', 'HYPOT': 'root', 'ID': '1', 'KSNAME': 'АНТУАН', 'LEMMA': 'АНТУАН'}\n",
            "Антуан\n"
          ]
        }
      ]
    },
    {
      "cell_type": "code",
      "source": [
        "# здесь мы делаем заголовок файла\n",
        "file_name = sample_body[0].attrib['ID']\n",
        "for child in sentence:\n",
        "  if child.tag == 'W':\n",
        "    file_name = file_name + ' ' + child.text\n",
        "file_name = file_name + '_.tgt'\n",
        "file_name\n"
      ],
      "metadata": {
        "colab": {
          "base_uri": "https://localhost:8080/",
          "height": 34
        },
        "id": "wNmVfDYuNkZy",
        "outputId": "b7fa1a92-3598-42d6-e829-91c0ab4580a6"
      },
      "execution_count": 84,
      "outputs": [
        {
          "output_type": "execute_result",
          "data": {
            "text/plain": [
              "'1 Антуан де Сент-Экзюпери_.tgt'"
            ],
            "application/vnd.google.colaboratory.intrinsic+json": {
              "type": "string"
            }
          },
          "metadata": {},
          "execution_count": 84
        }
      ]
    },
    {
      "cell_type": "code",
      "source": [
        "# Теперь нужно сделать так, чтобы file_name стало названием того файла, куда мы записали sample_tree\n",
        "sample_tree.write(file_name, encoding='utf-8', xml_declaration=True)"
      ],
      "metadata": {
        "id": "svwxzzOHQsr9"
      },
      "execution_count": 85,
      "outputs": []
    },
    {
      "cell_type": "code",
      "source": [
        "# теперь нужно сделать так, чтобы эта процедура повторилась для всех предложений\n",
        "# нужно сделать функцию\n",
        "def prints_split(sent):\n",
        "\n",
        "# что такое sent?"
      ],
      "metadata": {
        "id": "sTJE-1_1R2ah"
      },
      "execution_count": null,
      "outputs": []
    },
    {
      "cell_type": "markdown",
      "source": [
        "# New section"
      ],
      "metadata": {
        "id": "2HNA_bmmIdr5"
      }
    }
  ]
}