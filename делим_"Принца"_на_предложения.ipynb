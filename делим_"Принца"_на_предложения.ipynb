{
  "nbformat": 4,
  "nbformat_minor": 0,
  "metadata": {
    "colab": {
      "provenance": [],
      "authorship_tag": "ABX9TyN9vVq4O3nrFRoAmw3saBr+",
      "include_colab_link": true
    },
    "kernelspec": {
      "name": "python3",
      "display_name": "Python 3"
    },
    "language_info": {
      "name": "python"
    }
  },
  "cells": [
    {
      "cell_type": "markdown",
      "metadata": {
        "id": "view-in-github",
        "colab_type": "text"
      },
      "source": [
        "<a href=\"https://colab.research.google.com/github/TFrolova/Project_CL_Python/blob/main/%D0%B4%D0%B5%D0%BB%D0%B8%D0%BC_%22%D0%9F%D1%80%D0%B8%D0%BD%D1%86%D0%B0%22_%D0%BD%D0%B0_%D0%BF%D1%80%D0%B5%D0%B4%D0%BB%D0%BE%D0%B6%D0%B5%D0%BD%D0%B8%D1%8F.ipynb\" target=\"_parent\"><img src=\"https://colab.research.google.com/assets/colab-badge.svg\" alt=\"Open In Colab\"/></a>"
      ]
    },
    {
      "cell_type": "markdown",
      "source": [
        "Это упражнение по работе с документом.\n",
        "Мне нужно из большого текста сделать столько файлов, сколько в нем предложений.\n",
        "Причем сделать так, чтобы каждый файл можно было сохранить с расширением tgt и он бы представлял собой размеченный xml-документ.\n",
        "\n",
        "\n",
        "\n",
        "\n",
        "Для этого нужно для каждого предложения сделать вот что:\n",
        "1. скопировать первые две строчки большого файла и записать их в новый файл\n",
        "2. добавить туда следующей строчкой открывающий тег \\<body>\n",
        "3. Скопировать и записать следом в этот новый файл кусочек от начала открывающего тега \\<S> до закрывающего тега \\</S>.\n",
        "4. скопировать туда же последние две строчки файла:\n",
        "\\</body> и \n",
        "\\</text>\n",
        "5. Сохранить файл, дав ему название, которое формируется таким образом:\n",
        "\n",
        "  a. номер, взятый из ID внутри открывающего тега \\<s>;\n",
        "\n",
        "  b. Фрагмент названия. Для этого из каждого тега \\</w> с первого по пятого слова в предложении вытащить то, что стоит прямо перед ним. Но при этом, если слов меньше 5, то чтобы тоже не сломалось, то есть если после первого слова больше тегов  \\<w> не нашлось, то заканчиваем писать эту часть названия файла;\n",
        "\n",
        "  c. Нижнее подчеркивание\n",
        "\n",
        "  d. расширение tgt\n",
        "\n",
        "6. Все эти файлы записать в какую-то одну папку"
      ],
      "metadata": {
        "id": "ZSBrq00-9CAy"
      }
    },
    {
      "cell_type": "code",
      "execution_count": 8,
      "metadata": {
        "colab": {
          "base_uri": "https://localhost:8080/"
        },
        "id": "mC1o2BQLTvxs",
        "outputId": "5a88f685-d469-4f55-df4a-bdb28e0a3ed4"
      },
      "outputs": [
        {
          "output_type": "stream",
          "name": "stdout",
          "text": [
            "Drive already mounted at /content/drive; to attempt to forcibly remount, call drive.mount(\"/content/drive\", force_remount=True).\n",
            "﻿<?xml version=\"1.0\"\n"
          ]
        }
      ],
      "source": [
        "\n",
        "#открыть файл\n",
        "from google.colab import drive\n",
        "drive.mount('/content/drive')\n",
        "with open ('/content/drive/MyDrive/texts/Malenkii_prints_copy.txt', 'r', encoding='UTF8') as f:\n",
        "  text=f.read()\n",
        "print(text[:20])"
      ]
    },
    {
      "cell_type": "code",
      "source": [
        "# скопировать первые две строчки и напечатать\n",
        "# первый вариант: посчитаем сколько это знаков\n",
        "print(text[:454])"
      ],
      "metadata": {
        "colab": {
          "base_uri": "https://localhost:8080/"
        },
        "id": "Km7V-Jd04RPY",
        "outputId": "d2ac748d-2bb0-4496-f5cf-472be999b1e0"
      },
      "execution_count": 19,
      "outputs": [
        {
          "output_type": "stream",
          "name": "stdout",
          "text": [
            "﻿<?xml version=\"1.0\" encoding=\"utf-8\" standalone=\"no\"?>\n",
            "<text CRDATE=\"15 08 2020 01:22:02\" PARAMS=\"ETAPOPTION=RO; DOMAINS=COMMON-DOMAIN; LEVEL=$TRUE; PARAFR=$FALSE; STAT=N; SENTFEATS=STDSENT; SYNTMODE=STDSYNT; USESTAT=USESTATNO; USENER=$FALSE; NERMODE=DEFAULTNER; ALTTR=$TRUE; MWORDFORM=$TRUE; SYNTAXONLY=$FALSE; SOFTSENTBR=$FALSE; EXPERMODE=EXPER_OFF; DISAMBMODE=DISAMB_OFF; MAXALTNUM=NORMALNUM; SPEECHMODE=SPEECHMODENO; JOFICATION=$FALSE; \" ver=\"1.1\">\n",
            "\n"
          ]
        }
      ]
    },
    {
      "cell_type": "code",
      "source": [
        "# эти две строчки сохранить в новый текстовый файл\n"
      ],
      "metadata": {
        "id": "-KV9yeQB7Se9"
      },
      "execution_count": null,
      "outputs": []
    },
    {
      "cell_type": "code",
      "source": [
        "# второй вариант: как написать, что надо скопировать строчки\n",
        "# третий вариант: как написать, что надо скопировать то, что в первом теге и то, что в теге <text>\n",
        "#   a. при помощи регулярного выражения\n",
        "#   b. при помощи библиотеки, работающей с разметкой xml"
      ],
      "metadata": {
        "id": "WwnLNjsS5kia"
      },
      "execution_count": null,
      "outputs": []
    },
    {
      "cell_type": "code",
      "source": [],
      "metadata": {
        "id": "qBRsXR7H886b"
      },
      "execution_count": null,
      "outputs": []
    }
  ]
}