{
 "cells": [
  {
   "cell_type": "markdown",
   "id": "96ed997d",
   "metadata": {},
   "source": [
    "# Использование TfidfVectorizer для получения относительных частот имен отношений в тексте"
   ]
  },
  {
   "cell_type": "code",
   "execution_count": 100,
   "id": "de79e5b9",
   "metadata": {},
   "outputs": [],
   "source": [
    "# сначала откроем все списки, которые понадобятся для создания таблицы и для проверки результата\n",
    "# не знаю, что за библиотека ast, но только с ее помощью получилось открыть записанный в файл список как список, а не как строку\n",
    "with open(\"texts_in_corpus_links.txt\", \"r\", encoding='utf-8') as file:\n",
    "    text = file.read()\n",
    "import ast\n",
    "texts_in_corpus_links = ast.literal_eval(text)\n",
    "\n",
    "with open(\"corpus_files_names.txt\", \"r\", encoding='utf-8') as file:\n",
    "    text = file.read()\n",
    "corpus_files_names = ast.literal_eval(text)\n",
    "\n",
    "with open(\"prince_links.txt\", \"r\", encoding='utf-8') as file:\n",
    "    text = file.read()\n",
    "prince_links = ast.literal_eval(text)\n",
    "\n",
    "with open(\"corpus_links.txt\", \"r\", encoding='utf-8') as file:\n",
    "    text = file.read()\n",
    "corpus_links = ast.literal_eval(text)"
   ]
  },
  {
   "cell_type": "code",
   "execution_count": 101,
   "id": "bb1cca0b",
   "metadata": {},
   "outputs": [
    {
     "data": {
      "text/plain": [
       "1304"
      ]
     },
     "execution_count": 101,
     "metadata": {},
     "output_type": "execute_result"
    }
   ],
   "source": [
    "# проверяю, что правильно открылся спислок перечней лемм\n",
    "# он специально сохранен как список строк, потому что что sklearn работает с текстами, а не со списками\n",
    "# каждая строка содержит все леммы одного файла\n",
    "len(texts_in_corpus_links)"
   ]
  },
  {
   "cell_type": "code",
   "execution_count": 102,
   "id": "e607e0bd",
   "metadata": {},
   "outputs": [
    {
     "name": "stdout",
     "output_type": "stream",
     "text": [
      "обст предл\n"
     ]
    }
   ],
   "source": [
    "# еще раз проверяю, что правильно открылся список перечней связей\n",
    "print(texts_in_corpus_links[0][0:10])"
   ]
  },
  {
   "cell_type": "code",
   "execution_count": 103,
   "id": "dadfc483",
   "metadata": {},
   "outputs": [
    {
     "name": "stdout",
     "output_type": "stream",
     "text": [
      "Requirement already satisfied: sklearn in /Library/Frameworks/Python.framework/Versions/3.10/lib/python3.10/site-packages (0.0.post1)\n",
      "\n",
      "\u001b[1m[\u001b[0m\u001b[34;49mnotice\u001b[0m\u001b[1;39;49m]\u001b[0m\u001b[39;49m A new release of pip available: \u001b[0m\u001b[31;49m22.3.1\u001b[0m\u001b[39;49m -> \u001b[0m\u001b[32;49m23.0.1\u001b[0m\n",
      "\u001b[1m[\u001b[0m\u001b[34;49mnotice\u001b[0m\u001b[1;39;49m]\u001b[0m\u001b[39;49m To update, run: \u001b[0m\u001b[32;49mpip3 install --upgrade pip\u001b[0m\n",
      "Requirement already satisfied: scikit-learn in /Library/Frameworks/Python.framework/Versions/3.10/lib/python3.10/site-packages (1.2.2)\n",
      "Requirement already satisfied: scipy>=1.3.2 in /Library/Frameworks/Python.framework/Versions/3.10/lib/python3.10/site-packages (from scikit-learn) (1.10.1)\n",
      "Requirement already satisfied: numpy>=1.17.3 in /Library/Frameworks/Python.framework/Versions/3.10/lib/python3.10/site-packages (from scikit-learn) (1.24.2)\n",
      "Requirement already satisfied: threadpoolctl>=2.0.0 in /Library/Frameworks/Python.framework/Versions/3.10/lib/python3.10/site-packages (from scikit-learn) (3.1.0)\n",
      "Requirement already satisfied: joblib>=1.1.1 in /Library/Frameworks/Python.framework/Versions/3.10/lib/python3.10/site-packages (from scikit-learn) (1.2.0)\n",
      "\n",
      "\u001b[1m[\u001b[0m\u001b[34;49mnotice\u001b[0m\u001b[1;39;49m]\u001b[0m\u001b[39;49m A new release of pip available: \u001b[0m\u001b[31;49m22.3.1\u001b[0m\u001b[39;49m -> \u001b[0m\u001b[32;49m23.0.1\u001b[0m\n",
      "\u001b[1m[\u001b[0m\u001b[34;49mnotice\u001b[0m\u001b[1;39;49m]\u001b[0m\u001b[39;49m To update, run: \u001b[0m\u001b[32;49mpip3 install --upgrade pip\u001b[0m\n"
     ]
    }
   ],
   "source": [
    "# зовем sklearn, документация:\n",
    "# https://scikit-learn.org/stable/modules/generated/sklearn.feature_extraction.text.TfidfVectorizer.html\n",
    "# делала то в Colab, то в Jupyter, в одном работало sklearn, в другом -U scikit-learn\n",
    "!pip3 install sklearn\n",
    "!pip3 install -U scikit-learn"
   ]
  },
  {
   "cell_type": "code",
   "execution_count": 104,
   "id": "14dbb0b3",
   "metadata": {},
   "outputs": [],
   "source": [
    "from sklearn.feature_extraction.text import TfidfVectorizer"
   ]
  },
  {
   "cell_type": "markdown",
   "id": "fc888994",
   "metadata": {},
   "source": [
    "* по умолчанию в TfidfVectorizer стоит такой параметр: token_pattern='(?u)\\b\\w\\w+\\b'\n",
    " (https://scikit-learn.org/stable/modules/generated/sklearn.feature_extraction.text.TfidfVectorizer.html)\n",
    ",\n",
    "* в отличие от лемм, тут однобуквенных не будет штук\n",
    "* но дефисы нужны (ср. связь соч-союзн)\n",
    "* тот token_pattern, который был для лемм здесь, сначала оставила, потом изменила\n",
    "* не прошло отношение 1-несобст-компл - расширила еще token_pattern\n",
    "* а вот ограничение на df пока не делаю"
   ]
  },
  {
   "cell_type": "code",
   "execution_count": 105,
   "id": "4ba2a597",
   "metadata": {},
   "outputs": [],
   "source": [
    "# задаем наши параметры - схема токена\n",
    "# и отбрасываемые слишком частые слова\n",
    "tfidf_vectorizer = TfidfVectorizer(token_pattern=r\"(?u)\\b\\w+-?\\w*-?\\w*\\b\")"
   ]
  },
  {
   "cell_type": "code",
   "execution_count": 106,
   "id": "5c3ed6b0",
   "metadata": {},
   "outputs": [],
   "source": [
    "# применяем эту штуку с нашими параметрами к списку перечней лемм\n",
    "tfidf = tfidf_vectorizer.fit_transform(texts_in_corpus_links)"
   ]
  },
  {
   "cell_type": "code",
   "execution_count": 107,
   "id": "e140c3bc",
   "metadata": {},
   "outputs": [
    {
     "data": {
      "text/plain": [
       "(1304, 70)"
      ]
     },
     "execution_count": 107,
     "metadata": {},
     "output_type": "execute_result"
    }
   ],
   "source": [
    "tfidf.shape"
   ]
  },
  {
   "cell_type": "code",
   "execution_count": 108,
   "id": "61da68b9",
   "metadata": {},
   "outputs": [
    {
     "data": {
      "text/plain": [
       "70"
      ]
     },
     "execution_count": 108,
     "metadata": {},
     "output_type": "execute_result"
    }
   ],
   "source": [
    "links = tfidf_vectorizer.get_feature_names_out()\n",
    "len(links)"
   ]
  },
  {
   "cell_type": "code",
   "execution_count": 109,
   "id": "fb77ece0",
   "metadata": {},
   "outputs": [
    {
     "data": {
      "text/plain": [
       "array(['1-компл', '1-несобст-компл', '2-компл', '2-несобст-компл',\n",
       "       '3-компл', '3-несобст-компл', '4-компл', '4-несобст-компл',\n",
       "       '5-компл', 'root', 'агент', 'аддит', 'адр-присв', 'аналит',\n",
       "       'аппоз', 'аппрокс-колич', 'аппрокс-порядк', 'атриб', 'вводн',\n",
       "       'вспом', 'дат-сент', 'дат-субъект', 'дистанц', 'длительн',\n",
       "       'изъясн', 'инф-союзн', 'квазиагент', 'колич-вспом', 'колич-копред',\n",
       "       'колич-огран', 'количест', 'компл-аппоз', 'композ', 'кратн',\n",
       "       'кратно-длительн', 'неакт-компл', 'несобст-агент', 'ном-аппоз',\n",
       "       'нум-аппоз', 'об-аппоз', 'об-копр', 'об-обст', 'обст', 'обст-тавт',\n",
       "       'огранич', 'оп-аппоз', 'оп-опред', 'опред', 'пасс-анал',\n",
       "       'подч-союзн', 'предик', 'предл', 'примыкат', 'присвяз', 'пролепт',\n",
       "       'разъяснит', 'распред', 'релят', 'сент-предик', 'сент-соч',\n",
       "       'соотнос', 'соч-союзн', 'сочин', 'сравн-союзн', 'сравнит',\n",
       "       'суб-копр', 'суб-обст', 'уточн', 'эксплет', 'электив'],\n",
       "      dtype=object)"
      ]
     },
     "execution_count": 109,
     "metadata": {},
     "output_type": "execute_result"
    }
   ],
   "source": [
    "links"
   ]
  },
  {
   "cell_type": "code",
   "execution_count": 110,
   "id": "f0dc26bd",
   "metadata": {},
   "outputs": [
    {
     "name": "stdout",
     "output_type": "stream",
     "text": [
      "Requirement already satisfied: pandas in /Library/Frameworks/Python.framework/Versions/3.10/lib/python3.10/site-packages (1.5.3)\n",
      "Requirement already satisfied: numpy>=1.21.0 in /Library/Frameworks/Python.framework/Versions/3.10/lib/python3.10/site-packages (from pandas) (1.24.2)\n",
      "Requirement already satisfied: pytz>=2020.1 in /Library/Frameworks/Python.framework/Versions/3.10/lib/python3.10/site-packages (from pandas) (2022.7.1)\n",
      "Requirement already satisfied: python-dateutil>=2.8.1 in /Library/Frameworks/Python.framework/Versions/3.10/lib/python3.10/site-packages (from pandas) (2.8.2)\n",
      "Requirement already satisfied: six>=1.5 in /Library/Frameworks/Python.framework/Versions/3.10/lib/python3.10/site-packages (from python-dateutil>=2.8.1->pandas) (1.16.0)\n",
      "\n",
      "\u001b[1m[\u001b[0m\u001b[34;49mnotice\u001b[0m\u001b[1;39;49m]\u001b[0m\u001b[39;49m A new release of pip available: \u001b[0m\u001b[31;49m22.3.1\u001b[0m\u001b[39;49m -> \u001b[0m\u001b[32;49m23.0.1\u001b[0m\n",
      "\u001b[1m[\u001b[0m\u001b[34;49mnotice\u001b[0m\u001b[1;39;49m]\u001b[0m\u001b[39;49m To update, run: \u001b[0m\u001b[32;49mpip3 install --upgrade pip\u001b[0m\n"
     ]
    }
   ],
   "source": [
    "!pip3 install pandas"
   ]
  },
  {
   "cell_type": "code",
   "execution_count": 111,
   "id": "c91bebbf",
   "metadata": {},
   "outputs": [],
   "source": [
    "import pandas as pd"
   ]
  },
  {
   "cell_type": "code",
   "execution_count": 112,
   "id": "a10fa758",
   "metadata": {},
   "outputs": [],
   "source": [
    "# формируем таблицу со словами и именами файлов\n",
    "data = tfidf.todense().tolist() \n",
    "SynTagRusTable_links = pd.DataFrame(data, columns = links, index = corpus_files_names)"
   ]
  },
  {
   "cell_type": "code",
   "execution_count": 113,
   "id": "a58c799e",
   "metadata": {},
   "outputs": [
    {
     "name": "stdout",
     "output_type": "stream",
     "text": [
      "70\n"
     ]
    }
   ],
   "source": [
    "#строка, соответствующая нашему тексту\n",
    "print(len(SynTagRusTable_links.loc['Malenkii_prints']))"
   ]
  },
  {
   "cell_type": "code",
   "execution_count": 114,
   "id": "eac81f5e",
   "metadata": {},
   "outputs": [],
   "source": [
    "# сохраним в переменную\n",
    "prints_tf_list = SynTagRusTable_links.loc['Malenkii_prints']"
   ]
  },
  {
   "cell_type": "code",
   "execution_count": 115,
   "id": "06f1d3d7",
   "metadata": {},
   "outputs": [
    {
     "data": {
      "text/plain": [
       "1-компл            0.383906\n",
       "1-несобст-компл    0.002352\n",
       "2-компл            0.092389\n",
       "2-несобст-компл    0.000000\n",
       "3-компл            0.020907\n",
       "                     ...   \n",
       "суб-копр           0.014203\n",
       "суб-обст           0.000000\n",
       "уточн              0.000000\n",
       "эксплет            0.010594\n",
       "электив            0.002285\n",
       "Name: Malenkii_prints, Length: 70, dtype: float64"
      ]
     },
     "execution_count": 115,
     "metadata": {},
     "output_type": "execute_result"
    }
   ],
   "source": [
    "# проверим, что внутри\n",
    "prints_tf_list"
   ]
  },
  {
   "cell_type": "code",
   "execution_count": 116,
   "id": "d787939c",
   "metadata": {},
   "outputs": [
    {
     "data": {
      "text/plain": [
       "0.002352248030242429"
      ]
     },
     "execution_count": 116,
     "metadata": {},
     "output_type": "execute_result"
    }
   ],
   "source": [
    "# проверяю, что \"1-несобст-компл\" входит после правки\n",
    "prints_tf_list[\"1-несобст-компл\"]"
   ]
  },
  {
   "cell_type": "code",
   "execution_count": 118,
   "id": "307cb385",
   "metadata": {},
   "outputs": [
    {
     "data": {
      "text/plain": [
       "0.5192600124602422"
      ]
     },
     "execution_count": 118,
     "metadata": {},
     "output_type": "execute_result"
    }
   ],
   "source": [
    "# еще один способ извлечь максимальное значение\n",
    "prints_tf_list.max()"
   ]
  },
  {
   "cell_type": "code",
   "execution_count": 119,
   "id": "56558ece",
   "metadata": {},
   "outputs": [
    {
     "data": {
      "text/plain": [
       "предик             0.519260\n",
       "root               0.422950\n",
       "1-компл            0.383906\n",
       "огранич            0.319222\n",
       "опред              0.274157\n",
       "                     ...   \n",
       "несобст-агент      0.000000\n",
       "дистанц            0.000000\n",
       "изъясн             0.000000\n",
       "колич-копред       0.000000\n",
       "кратно-длительн    0.000000\n",
       "Name: Malenkii_prints, Length: 70, dtype: float64"
      ]
     },
     "execution_count": 119,
     "metadata": {},
     "output_type": "execute_result"
    }
   ],
   "source": [
    "# можно сортировать\n",
    "#Series.sort_values ​​( ось = 0 , по возрастанию = True , inplace = False , kind = 'quicksort' , na_position = 'last' , ignore_index = False , key = None ) \n",
    "prints_tf_list.sort_values(ascending=False)"
   ]
  },
  {
   "cell_type": "code",
   "execution_count": 120,
   "id": "9f34b8f2",
   "metadata": {},
   "outputs": [],
   "source": [
    "# вижу, что нули есть\n",
    "# вычеркиваю\n",
    "unempty_values_links = prints_tf_list.loc[lambda x: x != 0.0]"
   ]
  },
  {
   "cell_type": "code",
   "execution_count": 121,
   "id": "3093c16b",
   "metadata": {},
   "outputs": [
    {
     "data": {
      "text/plain": [
       "52"
      ]
     },
     "execution_count": 121,
     "metadata": {},
     "output_type": "execute_result"
    }
   ],
   "source": [
    "# проверяем, что количество уменьшилось\n",
    "len(unempty_values_links)"
   ]
  },
  {
   "cell_type": "code",
   "execution_count": 122,
   "id": "7e74fe61",
   "metadata": {},
   "outputs": [
    {
     "data": {
      "text/plain": [
       "1-компл            0.383906\n",
       "1-несобст-компл    0.002352\n",
       "2-компл            0.092389\n",
       "3-компл            0.020907\n",
       "root               0.422950\n",
       "агент              0.000419\n",
       "аддит              0.001355\n",
       "адр-присв          0.002758\n",
       "аналит             0.021187\n",
       "аппоз              0.004885\n",
       "аппрокс-колич      0.000834\n",
       "атриб              0.032575\n",
       "вводн              0.101388\n",
       "вспом              0.018940\n",
       "дат-субъект        0.030887\n",
       "длительн           0.009512\n",
       "инф-союзн          0.013104\n",
       "квазиагент         0.035841\n",
       "колич-вспом        0.036770\n",
       "колич-огран        0.003994\n",
       "количест           0.031471\n",
       "компл-аппоз        0.001904\n",
       "кратн              0.002502\n",
       "неакт-компл        0.006539\n",
       "нум-аппоз          0.008537\n",
       "об-аппоз           0.003329\n",
       "об-копр            0.002654\n",
       "обст               0.273824\n",
       "обст-тавт          0.001107\n",
       "огранич            0.319222\n",
       "оп-опред           0.006698\n",
       "опред              0.274157\n",
       "пасс-анал          0.001933\n",
       "подч-союзн         0.089595\n",
       "предик             0.519260\n",
       "предл              0.239012\n",
       "примыкат           0.001655\n",
       "присвяз            0.058792\n",
       "пролепт            0.007542\n",
       "разъяснит          0.029215\n",
       "распред            0.002779\n",
       "релят              0.024801\n",
       "сент-предик        0.002057\n",
       "сент-соч           0.074823\n",
       "соотнос            0.007310\n",
       "соч-союзн          0.195920\n",
       "сочин              0.101625\n",
       "сравн-союзн        0.021630\n",
       "сравнит            0.023220\n",
       "суб-копр           0.014203\n",
       "эксплет            0.010594\n",
       "электив            0.002285\n",
       "Name: Malenkii_prints, dtype: float64"
      ]
     },
     "execution_count": 122,
     "metadata": {},
     "output_type": "execute_result"
    }
   ],
   "source": [
    "# проверяем, что внутри\n",
    "unempty_values_links"
   ]
  },
  {
   "cell_type": "code",
   "execution_count": 123,
   "id": "e761741a",
   "metadata": {},
   "outputs": [
    {
     "data": {
      "text/plain": [
       "предик             0.519260\n",
       "root               0.422950\n",
       "1-компл            0.383906\n",
       "огранич            0.319222\n",
       "опред              0.274157\n",
       "обст               0.273824\n",
       "предл              0.239012\n",
       "соч-союзн          0.195920\n",
       "сочин              0.101625\n",
       "вводн              0.101388\n",
       "2-компл            0.092389\n",
       "подч-союзн         0.089595\n",
       "сент-соч           0.074823\n",
       "присвяз            0.058792\n",
       "колич-вспом        0.036770\n",
       "квазиагент         0.035841\n",
       "атриб              0.032575\n",
       "количест           0.031471\n",
       "дат-субъект        0.030887\n",
       "разъяснит          0.029215\n",
       "релят              0.024801\n",
       "сравнит            0.023220\n",
       "сравн-союзн        0.021630\n",
       "аналит             0.021187\n",
       "3-компл            0.020907\n",
       "вспом              0.018940\n",
       "суб-копр           0.014203\n",
       "инф-союзн          0.013104\n",
       "эксплет            0.010594\n",
       "длительн           0.009512\n",
       "нум-аппоз          0.008537\n",
       "пролепт            0.007542\n",
       "соотнос            0.007310\n",
       "оп-опред           0.006698\n",
       "неакт-компл        0.006539\n",
       "аппоз              0.004885\n",
       "колич-огран        0.003994\n",
       "об-аппоз           0.003329\n",
       "распред            0.002779\n",
       "адр-присв          0.002758\n",
       "об-копр            0.002654\n",
       "кратн              0.002502\n",
       "1-несобст-компл    0.002352\n",
       "электив            0.002285\n",
       "сент-предик        0.002057\n",
       "пасс-анал          0.001933\n",
       "компл-аппоз        0.001904\n",
       "примыкат           0.001655\n",
       "аддит              0.001355\n",
       "обст-тавт          0.001107\n",
       "аппрокс-колич      0.000834\n",
       "агент              0.000419\n",
       "Name: Malenkii_prints, dtype: float64"
      ]
     },
     "execution_count": 123,
     "metadata": {},
     "output_type": "execute_result"
    }
   ],
   "source": [
    "# посмотрим в порядке убывания, заодно проверим, что нули действительно не вошли\n",
    "unempty_values_links.sort_values(ascending=False)"
   ]
  },
  {
   "cell_type": "markdown",
   "id": "b24c3ed4",
   "metadata": {},
   "source": [
    "*Теперь проверяем разницу между исходным списком и тем, которые получился в результате процедуры подсчета  tfidf*"
   ]
  },
  {
   "cell_type": "code",
   "execution_count": 124,
   "id": "5b4e8b29",
   "metadata": {},
   "outputs": [],
   "source": [
    "# превращаем упорядоченный Series в словарь\n",
    "prince_links_dict = unempty_values_links.sort_values(ascending=False).to_dict()"
   ]
  },
  {
   "cell_type": "code",
   "execution_count": 125,
   "id": "3a7e8dbb",
   "metadata": {},
   "outputs": [
    {
     "data": {
      "text/plain": [
       "dict"
      ]
     },
     "execution_count": 125,
     "metadata": {},
     "output_type": "execute_result"
    }
   ],
   "source": [
    "# получилось? да\n",
    "type(prince_links_dict)"
   ]
  },
  {
   "cell_type": "code",
   "execution_count": 128,
   "id": "e1b8b3a5",
   "metadata": {},
   "outputs": [
    {
     "data": {
      "text/plain": [
       "['предик',\n",
       " 'root',\n",
       " '1-компл',\n",
       " 'огранич',\n",
       " 'опред',\n",
       " 'обст',\n",
       " 'предл',\n",
       " 'соч-союзн',\n",
       " 'сочин',\n",
       " 'вводн',\n",
       " '2-компл',\n",
       " 'подч-союзн',\n",
       " 'сент-соч',\n",
       " 'присвяз',\n",
       " 'колич-вспом',\n",
       " 'квазиагент',\n",
       " 'атриб',\n",
       " 'количест',\n",
       " 'дат-субъект',\n",
       " 'разъяснит',\n",
       " 'релят',\n",
       " 'сравнит',\n",
       " 'сравн-союзн',\n",
       " 'аналит',\n",
       " '3-компл',\n",
       " 'вспом',\n",
       " 'суб-копр',\n",
       " 'инф-союзн',\n",
       " 'эксплет',\n",
       " 'длительн',\n",
       " 'нум-аппоз',\n",
       " 'пролепт',\n",
       " 'соотнос',\n",
       " 'оп-опред',\n",
       " 'неакт-компл',\n",
       " 'аппоз',\n",
       " 'колич-огран',\n",
       " 'об-аппоз',\n",
       " 'распред',\n",
       " 'адр-присв',\n",
       " 'об-копр',\n",
       " 'кратн',\n",
       " '1-несобст-компл',\n",
       " 'электив',\n",
       " 'сент-предик',\n",
       " 'пасс-анал',\n",
       " 'компл-аппоз',\n",
       " 'примыкат',\n",
       " 'аддит',\n",
       " 'обст-тавт',\n",
       " 'аппрокс-колич',\n",
       " 'агент']"
      ]
     },
     "execution_count": 128,
     "metadata": {},
     "output_type": "execute_result"
    }
   ],
   "source": [
    "# из словаря можно сделать список ключей - имена отношений выживших после процедуры\n",
    "list(prince_links_dict.keys())"
   ]
  },
  {
   "cell_type": "code",
   "execution_count": 129,
   "id": "029d42c5",
   "metadata": {},
   "outputs": [
    {
     "name": "stdout",
     "output_type": "stream",
     "text": [
      "['предик', 'root', '1-компл', 'огранич', 'опред', 'обст', 'предл', 'соч-союзн', 'сочин', 'вводн', '2-компл', 'подч-союзн', 'сент-соч', 'присвяз', 'колич-вспом', 'квазиагент', 'атриб', 'количест', 'дат-субъект', 'разъяснит', 'релят', 'сравнит', 'сравн-союзн', 'аналит', '3-компл', 'вспом', 'суб-копр', 'инф-союзн', 'эксплет', 'длительн', 'нум-аппоз', 'пролепт', 'соотнос', 'оп-опред', 'неакт-компл', 'аппоз', 'колич-огран', 'об-аппоз', 'распред', 'адр-присв', 'об-копр', 'кратн', '1-несобст-компл', 'электив', 'сент-предик', 'пасс-анал', 'компл-аппоз', 'примыкат', 'аддит']\n"
     ]
    }
   ],
   "source": [
    "print(list(prince_links_dict.keys())[0:49])"
   ]
  },
  {
   "cell_type": "code",
   "execution_count": 130,
   "id": "32a9807c",
   "metadata": {},
   "outputs": [
    {
     "data": {
      "text/plain": [
       "[('предик', 0.5192600124602422),\n",
       " ('root', 0.4229500310478148),\n",
       " ('1-компл', 0.3839062196717479),\n",
       " ('огранич', 0.3192221788450057),\n",
       " ('опред', 0.2741572264846),\n",
       " ('обст', 0.27382354933634195),\n",
       " ('предл', 0.23901153133619296),\n",
       " ('соч-союзн', 0.1959198254033002),\n",
       " ('сочин', 0.10162479897436331),\n",
       " ('вводн', 0.10138763551572115),\n",
       " ('2-компл', 0.09238873441003558),\n",
       " ('подч-союзн', 0.08959507556841274),\n",
       " ('сент-соч', 0.07482288093548276),\n",
       " ('присвяз', 0.05879169346170164),\n",
       " ('колич-вспом', 0.036769972419030635),\n",
       " ('квазиагент', 0.035840577996213145),\n",
       " ('атриб', 0.03257463828016295),\n",
       " ('количест', 0.03147146615053359),\n",
       " ('дат-субъект', 0.03088671802019275),\n",
       " ('разъяснит', 0.029214598380231365)]"
      ]
     },
     "execution_count": 130,
     "metadata": {},
     "output_type": "execute_result"
    }
   ],
   "source": [
    "list(prince_links_dict.items())[0:20]"
   ]
  },
  {
   "cell_type": "markdown",
   "id": "12b8e97d",
   "metadata": {},
   "source": [
    "Скромные выводы по этому списку:\n",
    "* первые три строчки соответствуют тому, что в этом тексте относительно короткие предложения\n",
    "* остальное невнятно"
   ]
  },
  {
   "cell_type": "code",
   "execution_count": 131,
   "id": "3c573a5c",
   "metadata": {},
   "outputs": [
    {
     "data": {
      "text/plain": [
       "['root',\n",
       " 'вспом',\n",
       " 'аппоз',\n",
       " 'опред',\n",
       " 'root',\n",
       " 'root',\n",
       " 'аппоз',\n",
       " 'сочин',\n",
       " 'root',\n",
       " 'аппоз']"
      ]
     },
     "execution_count": 131,
     "metadata": {},
     "output_type": "execute_result"
    }
   ],
   "source": [
    "# связи до были капитализированы, если хотим сравнивать, надо сделать строчными\n",
    "def all_lower(my_list):\n",
    "    return [x.lower() for x in my_list]\n",
    "\n",
    "all_lower(prince_links)[0:10]"
   ]
  },
  {
   "cell_type": "code",
   "execution_count": 132,
   "id": "173f5d72",
   "metadata": {},
   "outputs": [
    {
     "data": {
      "text/plain": [
       "0"
      ]
     },
     "execution_count": 132,
     "metadata": {},
     "output_type": "execute_result"
    }
   ],
   "source": [
    "# посмотрим, сколько вычеркнули\n",
    "difference = list(set(all_lower(prince_links)) - set(list(prince_links_dict.keys())))\n",
    "len(difference)"
   ]
  },
  {
   "cell_type": "code",
   "execution_count": 133,
   "id": "2160ffad",
   "metadata": {},
   "outputs": [
    {
     "name": "stdout",
     "output_type": "stream",
     "text": [
      "[]\n"
     ]
    }
   ],
   "source": [
    "# не попало название с двумя дефисами 1-несобст-компл, правим token_pattern\n",
    "# после исправления разницы нет\n",
    "print(difference)"
   ]
  },
  {
   "cell_type": "markdown",
   "id": "c13bb777",
   "metadata": {},
   "source": [
    "*повторяем для max = 0.7,*\n",
    "*ну в самом деле, мало ли что*"
   ]
  },
  {
   "cell_type": "code",
   "execution_count": 134,
   "id": "c0530e33",
   "metadata": {},
   "outputs": [],
   "source": [
    "\n",
    "tfidf_vectorizer_07 = TfidfVectorizer(token_pattern=r\"(?u)\\b\\w+-?\\w*-?\\w*\\b\", max_df = 0.7)"
   ]
  },
  {
   "cell_type": "code",
   "execution_count": 135,
   "id": "2f3698f1",
   "metadata": {},
   "outputs": [],
   "source": [
    "tfidf_07 = tfidf_vectorizer_07.fit_transform(texts_in_corpus_links)"
   ]
  },
  {
   "cell_type": "code",
   "execution_count": 136,
   "id": "03ac9ed1",
   "metadata": {},
   "outputs": [
    {
     "data": {
      "text/plain": [
       "(1304, 50)"
      ]
     },
     "execution_count": 136,
     "metadata": {},
     "output_type": "execute_result"
    }
   ],
   "source": [
    "# проверяем параметры - на 20 связей слов меньше\n",
    "tfidf_07.shape"
   ]
  },
  {
   "cell_type": "code",
   "execution_count": 137,
   "id": "dff74cdd",
   "metadata": {},
   "outputs": [
    {
     "data": {
      "text/plain": [
       "50"
      ]
     },
     "execution_count": 137,
     "metadata": {},
     "output_type": "execute_result"
    }
   ],
   "source": [
    "words_07 = tfidf_vectorizer_07.get_feature_names_out()\n",
    "len(words_07)"
   ]
  },
  {
   "cell_type": "code",
   "execution_count": 138,
   "id": "2cf04d50",
   "metadata": {},
   "outputs": [],
   "source": [
    "# формируем таблицу со словами и именами файлов\n",
    "data = tfidf_07.todense().tolist() \n",
    "SynTagRusTable_07 = pd.DataFrame(data, columns = words_07, index = corpus_files_names)"
   ]
  },
  {
   "cell_type": "code",
   "execution_count": 139,
   "id": "035d7fa4",
   "metadata": {},
   "outputs": [],
   "source": [
    "# строка для нашего текста\n",
    "prints_tf_list_07 = SynTagRusTable_07.loc['Malenkii_prints']"
   ]
  },
  {
   "cell_type": "code",
   "execution_count": 140,
   "id": "c2f1c496",
   "metadata": {},
   "outputs": [],
   "source": [
    "# вычеркивавем нулевые значения\n",
    "unempty_values_links_07 = prints_tf_list_07.loc[lambda x: x != 0.0]"
   ]
  },
  {
   "cell_type": "code",
   "execution_count": 141,
   "id": "f37a9079",
   "metadata": {},
   "outputs": [],
   "source": [
    "# превращаем упорядоченный Series в словарь\n",
    "prince_links_dict_07 = unempty_values_links_07.sort_values(ascending=False).to_dict()"
   ]
  },
  {
   "cell_type": "code",
   "execution_count": 142,
   "id": "e9144102",
   "metadata": {},
   "outputs": [
    {
     "data": {
      "text/plain": [
       "32"
      ]
     },
     "execution_count": 142,
     "metadata": {},
     "output_type": "execute_result"
    }
   ],
   "source": [
    "len(prince_links_dict_07.keys())"
   ]
  },
  {
   "cell_type": "code",
   "execution_count": 143,
   "id": "25c234f7",
   "metadata": {},
   "outputs": [
    {
     "name": "stdout",
     "output_type": "stream",
     "text": [
      "['присвяз', 'колич-вспом', 'дат-субъект', 'разъяснит', 'сравнит', 'аналит', 'вспом', 'суб-копр', 'инф-союзн', 'эксплет', 'длительн', 'нум-аппоз', 'пролепт', 'соотнос', 'оп-опред', 'неакт-компл', 'колич-огран', 'об-аппоз', 'распред', 'адр-присв', 'об-копр', 'кратн', '1-несобст-компл', 'электив', 'сент-предик', 'пасс-анал', 'компл-аппоз', 'примыкат', 'аддит', 'обст-тавт', 'аппрокс-колич', 'агент']\n"
     ]
    }
   ],
   "source": [
    "print(list(prince_links_dict_07.keys()))"
   ]
  },
  {
   "cell_type": "code",
   "execution_count": 144,
   "id": "3aa25cd0",
   "metadata": {},
   "outputs": [
    {
     "data": {
      "text/plain": [
       "20"
      ]
     },
     "execution_count": 144,
     "metadata": {},
     "output_type": "execute_result"
    }
   ],
   "source": [
    "# посмотрим, есть ли разница, для этого нужно сделать список множеством - убрать повторяющиеся\n",
    "difference_07 = list(set(all_lower(prince_links)) - set(list(prince_links_dict_07.keys())))\n",
    "len(difference_07)"
   ]
  },
  {
   "cell_type": "code",
   "execution_count": 145,
   "id": "0ee15a28",
   "metadata": {},
   "outputs": [
    {
     "name": "stdout",
     "output_type": "stream",
     "text": [
      "['сравн-союзн', 'количест', 'огранич', 'релят', 'опред', 'сент-соч', 'подч-союзн', 'аппоз', '2-компл', '1-компл', 'root', 'обст', 'сочин', '3-компл', 'соч-союзн', 'вводн', 'квазиагент', 'предик', 'предл', 'атриб']\n"
     ]
    }
   ],
   "source": [
    "print(difference_07)"
   ]
  },
  {
   "cell_type": "markdown",
   "id": "9bfc5406",
   "metadata": {},
   "source": [
    "эти результаты забавны, но тоже не очень внятны\n",
    "* в результате мы получили список связей, которые присутствуют почти во всех текстах. Но ради этого, кажется, не стоило такой огород городить"
   ]
  },
  {
   "cell_type": "code",
   "execution_count": null,
   "id": "a0fcbfdf",
   "metadata": {},
   "outputs": [],
   "source": []
  }
 ],
 "metadata": {
  "kernelspec": {
   "display_name": "Python 3 (ipykernel)",
   "language": "python",
   "name": "python3"
  },
  "language_info": {
   "codemirror_mode": {
    "name": "ipython",
    "version": 3
   },
   "file_extension": ".py",
   "mimetype": "text/x-python",
   "name": "python",
   "nbconvert_exporter": "python",
   "pygments_lexer": "ipython3",
   "version": "3.10.10"
  }
 },
 "nbformat": 4,
 "nbformat_minor": 5
}
