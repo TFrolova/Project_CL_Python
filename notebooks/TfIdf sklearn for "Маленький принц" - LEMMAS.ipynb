{
 "cells": [
  {
   "cell_type": "markdown",
   "id": "96ed997d",
   "metadata": {},
   "source": [
    "# Использование TfidfVectorizer для получения относительных частот лемм в тексте"
   ]
  },
  {
   "cell_type": "code",
   "execution_count": 500,
   "id": "de79e5b9",
   "metadata": {},
   "outputs": [],
   "source": [
    "# сначала откроем все списки, которые понадобятся для создания таблицы и для проверки результата\n",
    "# не знаю, что за библиотека ast, но только с ее помощью получилось открыть записанный в файл список как список, а не как строку\n",
    "with open(\"texts_in_corpus_lemmas.txt\", \"r\", encoding='utf-8') as file:\n",
    "    text = file.read()\n",
    "import ast\n",
    "texts_in_corpus_lemmas = ast.literal_eval(text)\n",
    "\n",
    "with open(\"corpus_files_names.txt\", \"r\", encoding='utf-8') as file:\n",
    "    text = file.read()\n",
    "corpus_files_names = ast.literal_eval(text)\n",
    "\n",
    "with open(\"prince_lemmas.txt\", \"r\", encoding='utf-8') as file:\n",
    "    text = file.read()\n",
    "prince_lemmas = ast.literal_eval(text)\n",
    "\n",
    "with open(\"corpus_lemmas.txt\", \"r\", encoding='utf-8') as file:\n",
    "    text = file.read()\n",
    "corpus_lemmas = ast.literal_eval(text)"
   ]
  },
  {
   "cell_type": "code",
   "execution_count": 69,
   "id": "bb1cca0b",
   "metadata": {},
   "outputs": [
    {
     "data": {
      "text/plain": [
       "1304"
      ]
     },
     "execution_count": 69,
     "metadata": {},
     "output_type": "execute_result"
    }
   ],
   "source": [
    "# проверяю, что правильно открылся спислок перечней лемм\n",
    "# он специально сохранен как список строк, потому что что sklearn работает с текстами, а не со списками\n",
    "# каждая строка содержит все леммы одного файла\n",
    "len(texts_in_corpus_lemmas)"
   ]
  },
  {
   "cell_type": "code",
   "execution_count": 70,
   "id": "e607e0bd",
   "metadata": {},
   "outputs": [
    {
     "name": "stdout",
     "output_type": "stream",
     "text": [
      "В КРЕМЛЬ И\n"
     ]
    }
   ],
   "source": [
    "# еще раз проверяю, что правильно открылся список перечней лемм\n",
    "print(texts_in_corpus_lemmas[0][0:10])"
   ]
  },
  {
   "cell_type": "code",
   "execution_count": 1,
   "id": "dadfc483",
   "metadata": {},
   "outputs": [
    {
     "name": "stdout",
     "output_type": "stream",
     "text": [
      "Requirement already satisfied: sklearn in /Library/Frameworks/Python.framework/Versions/3.10/lib/python3.10/site-packages (0.0.post1)\n",
      "\n",
      "\u001b[1m[\u001b[0m\u001b[34;49mnotice\u001b[0m\u001b[1;39;49m]\u001b[0m\u001b[39;49m A new release of pip available: \u001b[0m\u001b[31;49m22.3.1\u001b[0m\u001b[39;49m -> \u001b[0m\u001b[32;49m23.0.1\u001b[0m\n",
      "\u001b[1m[\u001b[0m\u001b[34;49mnotice\u001b[0m\u001b[1;39;49m]\u001b[0m\u001b[39;49m To update, run: \u001b[0m\u001b[32;49mpip3 install --upgrade pip\u001b[0m\n",
      "Requirement already satisfied: scikit-learn in /Library/Frameworks/Python.framework/Versions/3.10/lib/python3.10/site-packages (1.2.2)\n",
      "Requirement already satisfied: joblib>=1.1.1 in /Library/Frameworks/Python.framework/Versions/3.10/lib/python3.10/site-packages (from scikit-learn) (1.2.0)\n",
      "Requirement already satisfied: numpy>=1.17.3 in /Library/Frameworks/Python.framework/Versions/3.10/lib/python3.10/site-packages (from scikit-learn) (1.24.2)\n",
      "Requirement already satisfied: scipy>=1.3.2 in /Library/Frameworks/Python.framework/Versions/3.10/lib/python3.10/site-packages (from scikit-learn) (1.10.1)\n",
      "Requirement already satisfied: threadpoolctl>=2.0.0 in /Library/Frameworks/Python.framework/Versions/3.10/lib/python3.10/site-packages (from scikit-learn) (3.1.0)\n",
      "\n",
      "\u001b[1m[\u001b[0m\u001b[34;49mnotice\u001b[0m\u001b[1;39;49m]\u001b[0m\u001b[39;49m A new release of pip available: \u001b[0m\u001b[31;49m22.3.1\u001b[0m\u001b[39;49m -> \u001b[0m\u001b[32;49m23.0.1\u001b[0m\n",
      "\u001b[1m[\u001b[0m\u001b[34;49mnotice\u001b[0m\u001b[1;39;49m]\u001b[0m\u001b[39;49m To update, run: \u001b[0m\u001b[32;49mpip3 install --upgrade pip\u001b[0m\n"
     ]
    }
   ],
   "source": [
    "# зовем sklearn, документация:\n",
    "# https://scikit-learn.org/stable/modules/generated/sklearn.feature_extraction.text.TfidfVectorizer.html\n",
    "# делала то в Colab, то в Jupyter, в одном работало sklearn, в другом -U scikit-learn\n",
    "!pip3 install sklearn\n",
    "!pip3 install -U scikit-learn"
   ]
  },
  {
   "cell_type": "code",
   "execution_count": 71,
   "id": "14dbb0b3",
   "metadata": {},
   "outputs": [],
   "source": [
    "from sklearn.feature_extraction.text import TfidfVectorizer"
   ]
  },
  {
   "cell_type": "markdown",
   "id": "fc888994",
   "metadata": {},
   "source": [
    "* по умолчанию в TfidfVectorizer стоит такой параметр: token_pattern='(?u)\\b\\w\\w+\\b'\n",
    " (https://scikit-learn.org/stable/modules/generated/sklearn.feature_extraction.text.TfidfVectorizer.html)\n",
    ",\n",
    "* это значит, что однобуквенные слова не проходят, а я хочу, чтобы проходили.\n",
    "* Кроме того мне нужны слова с дефисом, поэтому меняю token_pattern.\n",
    "* Проверяем вот здесь https://regex101.com/r/F8dY80/3.\n",
    "* Ко всему прочему я бы хотела, чтобы слово \"И\" у меня не пролезло, поэтому я ставлю ограничение на слова, которые входят в более, чем 90 процентов текстов. Это max_df = 0.9. \n",
    "* Добавила постепенно ограничение 0.7, чтобы изгнать \"он\", \"быть\""
   ]
  },
  {
   "cell_type": "code",
   "execution_count": 430,
   "id": "4ba2a597",
   "metadata": {},
   "outputs": [],
   "source": [
    "# задаем наши параметры - схема токена и отбрасываемые слишком частые слова\n",
    "tfidf_vectorizer = TfidfVectorizer(token_pattern=r\"(?u)\\b\\w+-?\\w*\\b\", max_df = 0.9)"
   ]
  },
  {
   "cell_type": "code",
   "execution_count": 431,
   "id": "5c3ed6b0",
   "metadata": {},
   "outputs": [],
   "source": [
    "# применяем эту штуку с нашими параметрами к списку перечней лемм\n",
    "tfidf = tfidf_vectorizer.fit_transform(texts_in_corpus_lemmas)"
   ]
  },
  {
   "cell_type": "code",
   "execution_count": 432,
   "id": "e140c3bc",
   "metadata": {},
   "outputs": [
    {
     "data": {
      "text/plain": [
       "(1304, 55211)"
      ]
     },
     "execution_count": 432,
     "metadata": {},
     "output_type": "execute_result"
    }
   ],
   "source": [
    "tfidf.shape"
   ]
  },
  {
   "cell_type": "code",
   "execution_count": null,
   "id": "7b46502e",
   "metadata": {},
   "outputs": [],
   "source": []
  },
  {
   "cell_type": "code",
   "execution_count": 433,
   "id": "61da68b9",
   "metadata": {},
   "outputs": [
    {
     "data": {
      "text/plain": [
       "55211"
      ]
     },
     "execution_count": 433,
     "metadata": {},
     "output_type": "execute_result"
    }
   ],
   "source": [
    "words = tfidf_vectorizer.get_feature_names_out()\n",
    "len(words)"
   ]
  },
  {
   "cell_type": "code",
   "execution_count": 148,
   "id": "f0dc26bd",
   "metadata": {},
   "outputs": [
    {
     "name": "stdout",
     "output_type": "stream",
     "text": [
      "Requirement already satisfied: pandas in /Library/Frameworks/Python.framework/Versions/3.10/lib/python3.10/site-packages (1.5.3)\n",
      "Requirement already satisfied: numpy>=1.21.0 in /Library/Frameworks/Python.framework/Versions/3.10/lib/python3.10/site-packages (from pandas) (1.24.2)\n",
      "Requirement already satisfied: python-dateutil>=2.8.1 in /Library/Frameworks/Python.framework/Versions/3.10/lib/python3.10/site-packages (from pandas) (2.8.2)\n",
      "Requirement already satisfied: pytz>=2020.1 in /Library/Frameworks/Python.framework/Versions/3.10/lib/python3.10/site-packages (from pandas) (2022.7.1)\n",
      "Requirement already satisfied: six>=1.5 in /Library/Frameworks/Python.framework/Versions/3.10/lib/python3.10/site-packages (from python-dateutil>=2.8.1->pandas) (1.16.0)\n",
      "\n",
      "\u001b[1m[\u001b[0m\u001b[34;49mnotice\u001b[0m\u001b[1;39;49m]\u001b[0m\u001b[39;49m A new release of pip available: \u001b[0m\u001b[31;49m22.3.1\u001b[0m\u001b[39;49m -> \u001b[0m\u001b[32;49m23.0.1\u001b[0m\n",
      "\u001b[1m[\u001b[0m\u001b[34;49mnotice\u001b[0m\u001b[1;39;49m]\u001b[0m\u001b[39;49m To update, run: \u001b[0m\u001b[32;49mpip3 install --upgrade pip\u001b[0m\n"
     ]
    }
   ],
   "source": [
    "!pip3 install pandas"
   ]
  },
  {
   "cell_type": "code",
   "execution_count": 303,
   "id": "c91bebbf",
   "metadata": {},
   "outputs": [],
   "source": [
    "import pandas as pd"
   ]
  },
  {
   "cell_type": "code",
   "execution_count": 434,
   "id": "a10fa758",
   "metadata": {},
   "outputs": [],
   "source": [
    "# формируем таблицу со словами и именами файлов\n",
    "data = tfidf.todense().tolist() \n",
    "SynTagRusTable = pd.DataFrame(data, columns = words, index = corpus_files_names)"
   ]
  },
  {
   "cell_type": "code",
   "execution_count": 435,
   "id": "a58c799e",
   "metadata": {},
   "outputs": [
    {
     "name": "stdout",
     "output_type": "stream",
     "text": [
      "55211\n"
     ]
    }
   ],
   "source": [
    "#строка, соответствующая нашему тексту\n",
    "print(len(SynTagRusTable.loc['Malenkii_prints']))"
   ]
  },
  {
   "cell_type": "code",
   "execution_count": 436,
   "id": "eac81f5e",
   "metadata": {},
   "outputs": [],
   "source": [
    "# сохраним в переменную, чтобы посмотреть, что это за объект\n",
    "prints_tf_list = SynTagRusTable.loc['Malenkii_prints']"
   ]
  },
  {
   "cell_type": "code",
   "execution_count": 437,
   "id": "616270c4",
   "metadata": {},
   "outputs": [
    {
     "name": "stdout",
     "output_type": "stream",
     "text": [
      "<class 'pandas.core.series.Series'>\n"
     ]
    }
   ],
   "source": [
    "# что это за объект\n",
    "# пробовала обходиться с Series как со словарем - это не работает, \n",
    "# нужно смотреть в описании Pandas, как с таким типом обходиться\n",
    "print(type(prints_tf_list))"
   ]
  },
  {
   "cell_type": "code",
   "execution_count": 438,
   "id": "06f1d3d7",
   "metadata": {},
   "outputs": [
    {
     "data": {
      "text/plain": [
       "юргенсон         0.000000\n",
       "юргинский        0.000000\n",
       "юридически       0.000000\n",
       "юридический      0.000000\n",
       "юрий             0.000000\n",
       "юрин             0.000000\n",
       "юрисдикция       0.000000\n",
       "юрисконсульт     0.000000\n",
       "юриспруденция    0.000000\n",
       "юрист            0.000000\n",
       "юрка             0.000000\n",
       "юркий            0.000000\n",
       "юркин            0.000000\n",
       "юркнуть          0.000000\n",
       "юрковато         0.000000\n",
       "юрлицо           0.000000\n",
       "юродивый         0.000000\n",
       "юрский           0.000000\n",
       "юрфак            0.000000\n",
       "юрьев            0.000000\n",
       "юрьевич          0.000000\n",
       "юрьенен          0.000000\n",
       "юс               0.000000\n",
       "юсб              0.000000\n",
       "юсов             0.000000\n",
       "юстас            0.000000\n",
       "юстина           0.000000\n",
       "юстиция          0.002561\n",
       "юсуповский       0.000000\n",
       "юсуфов           0.000000\n",
       "юта              0.000000\n",
       "ютианский        0.000000\n",
       "ютиться          0.000000\n",
       "юткин            0.000000\n",
       "ютландский       0.000000\n",
       "ютьюб            0.000000\n",
       "юф               0.000000\n",
       "юшенков          0.000000\n",
       "юшин             0.000000\n",
       "юшкевич          0.000000\n",
       "я                0.513334\n",
       "ябеда            0.000000\n",
       "ябедница         0.000000\n",
       "яблоко           0.000000\n",
       "яблоков          0.000000\n",
       "яблоневый        0.000000\n",
       "яблонька         0.000000\n",
       "яблоня           0.002681\n",
       "яблочко          0.000000\n",
       "яблочник         0.000000\n",
       "Name: Malenkii_prints, dtype: float64"
      ]
     },
     "execution_count": 438,
     "metadata": {},
     "output_type": "execute_result"
    }
   ],
   "source": [
    "# проверим, что внутри\n",
    "prints_tf_list[54950:55000]\n",
    "# в начале этой штуки сначала получались числа, потом слова на латинице\n",
    "# можно пробовать разные кусочки, этот (от 54950:55000) мне нужен для того, чтобы убедиться, что token_pattern не вычеркнул слово \"я\""
   ]
  },
  {
   "cell_type": "code",
   "execution_count": 439,
   "id": "d787939c",
   "metadata": {},
   "outputs": [
    {
     "ename": "KeyError",
     "evalue": "'и'",
     "output_type": "error",
     "traceback": [
      "\u001b[0;31m---------------------------------------------------------------------------\u001b[0m",
      "\u001b[0;31mKeyError\u001b[0m                                  Traceback (most recent call last)",
      "File \u001b[0;32m/Library/Frameworks/Python.framework/Versions/3.10/lib/python3.10/site-packages/pandas/core/indexes/base.py:3802\u001b[0m, in \u001b[0;36mIndex.get_loc\u001b[0;34m(self, key, method, tolerance)\u001b[0m\n\u001b[1;32m   3801\u001b[0m \u001b[38;5;28;01mtry\u001b[39;00m:\n\u001b[0;32m-> 3802\u001b[0m     \u001b[38;5;28;01mreturn\u001b[39;00m \u001b[38;5;28;43mself\u001b[39;49m\u001b[38;5;241;43m.\u001b[39;49m\u001b[43m_engine\u001b[49m\u001b[38;5;241;43m.\u001b[39;49m\u001b[43mget_loc\u001b[49m\u001b[43m(\u001b[49m\u001b[43mcasted_key\u001b[49m\u001b[43m)\u001b[49m\n\u001b[1;32m   3803\u001b[0m \u001b[38;5;28;01mexcept\u001b[39;00m \u001b[38;5;167;01mKeyError\u001b[39;00m \u001b[38;5;28;01mas\u001b[39;00m err:\n",
      "File \u001b[0;32m/Library/Frameworks/Python.framework/Versions/3.10/lib/python3.10/site-packages/pandas/_libs/index.pyx:138\u001b[0m, in \u001b[0;36mpandas._libs.index.IndexEngine.get_loc\u001b[0;34m()\u001b[0m\n",
      "File \u001b[0;32m/Library/Frameworks/Python.framework/Versions/3.10/lib/python3.10/site-packages/pandas/_libs/index.pyx:165\u001b[0m, in \u001b[0;36mpandas._libs.index.IndexEngine.get_loc\u001b[0;34m()\u001b[0m\n",
      "File \u001b[0;32mpandas/_libs/hashtable_class_helper.pxi:5745\u001b[0m, in \u001b[0;36mpandas._libs.hashtable.PyObjectHashTable.get_item\u001b[0;34m()\u001b[0m\n",
      "File \u001b[0;32mpandas/_libs/hashtable_class_helper.pxi:5753\u001b[0m, in \u001b[0;36mpandas._libs.hashtable.PyObjectHashTable.get_item\u001b[0;34m()\u001b[0m\n",
      "\u001b[0;31mKeyError\u001b[0m: 'и'",
      "\nThe above exception was the direct cause of the following exception:\n",
      "\u001b[0;31mKeyError\u001b[0m                                  Traceback (most recent call last)",
      "Cell \u001b[0;32mIn[439], line 2\u001b[0m\n\u001b[1;32m      1\u001b[0m \u001b[38;5;66;03m# проверяю, что \"и\" не входит - отлично, получается ошибка\u001b[39;00m\n\u001b[0;32m----> 2\u001b[0m \u001b[43mprints_tf_list\u001b[49m\u001b[43m[\u001b[49m\u001b[38;5;124;43m\"\u001b[39;49m\u001b[38;5;124;43mи\u001b[39;49m\u001b[38;5;124;43m\"\u001b[39;49m\u001b[43m]\u001b[49m\n",
      "File \u001b[0;32m/Library/Frameworks/Python.framework/Versions/3.10/lib/python3.10/site-packages/pandas/core/series.py:981\u001b[0m, in \u001b[0;36mSeries.__getitem__\u001b[0;34m(self, key)\u001b[0m\n\u001b[1;32m    978\u001b[0m     \u001b[38;5;28;01mreturn\u001b[39;00m \u001b[38;5;28mself\u001b[39m\u001b[38;5;241m.\u001b[39m_values[key]\n\u001b[1;32m    980\u001b[0m \u001b[38;5;28;01melif\u001b[39;00m key_is_scalar:\n\u001b[0;32m--> 981\u001b[0m     \u001b[38;5;28;01mreturn\u001b[39;00m \u001b[38;5;28;43mself\u001b[39;49m\u001b[38;5;241;43m.\u001b[39;49m\u001b[43m_get_value\u001b[49m\u001b[43m(\u001b[49m\u001b[43mkey\u001b[49m\u001b[43m)\u001b[49m\n\u001b[1;32m    983\u001b[0m \u001b[38;5;28;01mif\u001b[39;00m is_hashable(key):\n\u001b[1;32m    984\u001b[0m     \u001b[38;5;66;03m# Otherwise index.get_value will raise InvalidIndexError\u001b[39;00m\n\u001b[1;32m    985\u001b[0m     \u001b[38;5;28;01mtry\u001b[39;00m:\n\u001b[1;32m    986\u001b[0m         \u001b[38;5;66;03m# For labels that don't resolve as scalars like tuples and frozensets\u001b[39;00m\n",
      "File \u001b[0;32m/Library/Frameworks/Python.framework/Versions/3.10/lib/python3.10/site-packages/pandas/core/series.py:1089\u001b[0m, in \u001b[0;36mSeries._get_value\u001b[0;34m(self, label, takeable)\u001b[0m\n\u001b[1;32m   1086\u001b[0m     \u001b[38;5;28;01mreturn\u001b[39;00m \u001b[38;5;28mself\u001b[39m\u001b[38;5;241m.\u001b[39m_values[label]\n\u001b[1;32m   1088\u001b[0m \u001b[38;5;66;03m# Similar to Index.get_value, but we do not fall back to positional\u001b[39;00m\n\u001b[0;32m-> 1089\u001b[0m loc \u001b[38;5;241m=\u001b[39m \u001b[38;5;28;43mself\u001b[39;49m\u001b[38;5;241;43m.\u001b[39;49m\u001b[43mindex\u001b[49m\u001b[38;5;241;43m.\u001b[39;49m\u001b[43mget_loc\u001b[49m\u001b[43m(\u001b[49m\u001b[43mlabel\u001b[49m\u001b[43m)\u001b[49m\n\u001b[1;32m   1090\u001b[0m \u001b[38;5;28;01mreturn\u001b[39;00m \u001b[38;5;28mself\u001b[39m\u001b[38;5;241m.\u001b[39mindex\u001b[38;5;241m.\u001b[39m_get_values_for_loc(\u001b[38;5;28mself\u001b[39m, loc, label)\n",
      "File \u001b[0;32m/Library/Frameworks/Python.framework/Versions/3.10/lib/python3.10/site-packages/pandas/core/indexes/base.py:3804\u001b[0m, in \u001b[0;36mIndex.get_loc\u001b[0;34m(self, key, method, tolerance)\u001b[0m\n\u001b[1;32m   3802\u001b[0m     \u001b[38;5;28;01mreturn\u001b[39;00m \u001b[38;5;28mself\u001b[39m\u001b[38;5;241m.\u001b[39m_engine\u001b[38;5;241m.\u001b[39mget_loc(casted_key)\n\u001b[1;32m   3803\u001b[0m \u001b[38;5;28;01mexcept\u001b[39;00m \u001b[38;5;167;01mKeyError\u001b[39;00m \u001b[38;5;28;01mas\u001b[39;00m err:\n\u001b[0;32m-> 3804\u001b[0m     \u001b[38;5;28;01mraise\u001b[39;00m \u001b[38;5;167;01mKeyError\u001b[39;00m(key) \u001b[38;5;28;01mfrom\u001b[39;00m \u001b[38;5;21;01merr\u001b[39;00m\n\u001b[1;32m   3805\u001b[0m \u001b[38;5;28;01mexcept\u001b[39;00m \u001b[38;5;167;01mTypeError\u001b[39;00m:\n\u001b[1;32m   3806\u001b[0m     \u001b[38;5;66;03m# If we have a listlike key, _check_indexing_error will raise\u001b[39;00m\n\u001b[1;32m   3807\u001b[0m     \u001b[38;5;66;03m#  InvalidIndexError. Otherwise we fall through and re-raise\u001b[39;00m\n\u001b[1;32m   3808\u001b[0m     \u001b[38;5;66;03m#  the TypeError.\u001b[39;00m\n\u001b[1;32m   3809\u001b[0m     \u001b[38;5;28mself\u001b[39m\u001b[38;5;241m.\u001b[39m_check_indexing_error(key)\n",
      "\u001b[0;31mKeyError\u001b[0m: 'и'"
     ]
    }
   ],
   "source": [
    "# проверяю, что \"и\" не входит - отлично, получается ошибка\n",
    "prints_tf_list[\"и\"]"
   ]
  },
  {
   "cell_type": "code",
   "execution_count": 440,
   "id": "48f57c9a",
   "metadata": {},
   "outputs": [
    {
     "data": {
      "text/plain": [
       "0.5133337108908528"
      ]
     },
     "execution_count": 440,
     "metadata": {},
     "output_type": "execute_result"
    }
   ],
   "source": [
    "# еще раз проверяю, что \"я\" входит\n",
    "# именно здесь в первый проход я обнаружила, что нужно поменять token_pattern с того, который был по умолчанию\n",
    "prints_tf_list[\"я\"]"
   ]
  },
  {
   "cell_type": "code",
   "execution_count": 441,
   "id": "e0ad17a6",
   "metadata": {},
   "outputs": [
    {
     "data": {
      "text/plain": [
       "0.5133337108908528"
      ]
     },
     "execution_count": 441,
     "metadata": {},
     "output_type": "execute_result"
    }
   ],
   "source": [
    "# способ извлечь максимальное значение по образцу cars.agg('max')\n",
    "prints_tf_list.agg('max')"
   ]
  },
  {
   "cell_type": "code",
   "execution_count": 442,
   "id": "307cb385",
   "metadata": {},
   "outputs": [
    {
     "data": {
      "text/plain": [
       "0.5133337108908528"
      ]
     },
     "execution_count": 442,
     "metadata": {},
     "output_type": "execute_result"
    }
   ],
   "source": [
    "# еще один способ извлечь максимальное значение\n",
    "prints_tf_list.max()"
   ]
  },
  {
   "cell_type": "code",
   "execution_count": 443,
   "id": "56558ece",
   "metadata": {},
   "outputs": [
    {
     "data": {
      "text/plain": [
       "я            0.513334\n",
       "принц        0.421618\n",
       "маленький    0.263881\n",
       "ты           0.238299\n",
       "он           0.227041\n",
       "               ...   \n",
       "искорка      0.000000\n",
       "искра        0.000000\n",
       "искренне     0.000000\n",
       "искренний    0.000000\n",
       "і            0.000000\n",
       "Name: Malenkii_prints, Length: 55211, dtype: float64"
      ]
     },
     "execution_count": 443,
     "metadata": {},
     "output_type": "execute_result"
    }
   ],
   "source": [
    "# можно сортировать\n",
    "#Series.sort_values ​​( ось = 0 , по возрастанию = True , inplace = False , kind = 'quicksort' , na_position = 'last' , ignore_index = False , key = None ) \n",
    "prints_tf_list.sort_values(ascending=False)"
   ]
  },
  {
   "cell_type": "code",
   "execution_count": 444,
   "id": "9f34b8f2",
   "metadata": {},
   "outputs": [],
   "source": [
    "# вычеркнуть нулевые значения просто так не получилось,\n",
    "# нужно делать это таким хитрым переповыподвертом, извлекается это знание отсюда, но не только:\n",
    "# https://pandas.pydata.org/docs/reference/api/pandas.Series.loc.html\n",
    "unempty_values_lemmas = prints_tf_list.loc[lambda x: x != 0.0]"
   ]
  },
  {
   "cell_type": "code",
   "execution_count": 445,
   "id": "3093c16b",
   "metadata": {},
   "outputs": [
    {
     "data": {
      "text/plain": [
       "1998"
      ]
     },
     "execution_count": 445,
     "metadata": {},
     "output_type": "execute_result"
    }
   ],
   "source": [
    "# проверяем, что количество уменьшилось\n",
    "len(unempty_values_lemmas)"
   ]
  },
  {
   "cell_type": "code",
   "execution_count": 446,
   "id": "7e74fe61",
   "metadata": {},
   "outputs": [
    {
     "data": {
      "text/plain": [
       "1             0.003513\n",
       "1909          0.002914\n",
       "1920          0.002496\n",
       "2             0.002383\n",
       "325           0.003416\n",
       "3251          0.003416\n",
       "326           0.003416\n",
       "327           0.003231\n",
       "328           0.003231\n",
       "329           0.003231\n",
       "330           0.002914\n",
       "612           0.013664\n",
       "i             0.002096\n",
       "ii            0.002026\n",
       "iii           0.002342\n",
       "iv            0.002527\n",
       "ix            0.002998\n",
       "v             0.002729\n",
       "vi            0.002914\n",
       "vii           0.002998\n",
       "viii          0.002998\n",
       "x             0.002342\n",
       "xi            0.002844\n",
       "xii           0.002638\n",
       "xiii          0.002496\n",
       "xiv           0.002638\n",
       "xix           0.001737\n",
       "xv            0.002598\n",
       "xvi           0.002301\n",
       "xvii          0.002245\n",
       "xviii         0.002109\n",
       "xx            0.001668\n",
       "xxi           0.002005\n",
       "xxii          0.003231\n",
       "xxiii         0.003416\n",
       "xxiv          0.003416\n",
       "xxv           0.003416\n",
       "xxvi          0.003416\n",
       "xxvii         0.002914\n",
       "а             0.082826\n",
       "абсолютный    0.001726\n",
       "авария        0.002109\n",
       "австралия     0.002195\n",
       "азбучный      0.003416\n",
       "аккуратно     0.002084\n",
       "алмаз         0.002638\n",
       "америка       0.004722\n",
       "антуан        0.003100\n",
       "аризона       0.002844\n",
       "арифметика    0.010245\n",
       "Name: Malenkii_prints, dtype: float64"
      ]
     },
     "execution_count": 446,
     "metadata": {},
     "output_type": "execute_result"
    }
   ],
   "source": [
    "# проверяем, что внутри\n",
    "unempty_values_lemmas[0:50]"
   ]
  },
  {
   "cell_type": "code",
   "execution_count": 447,
   "id": "e761741a",
   "metadata": {},
   "outputs": [
    {
     "data": {
      "text/plain": [
       "я              0.513334\n",
       "принц          0.421618\n",
       "маленький      0.263881\n",
       "ты             0.238299\n",
       "он             0.227041\n",
       "                 ...   \n",
       "хотя           0.000927\n",
       "происходить    0.000921\n",
       "считать        0.000864\n",
       "россия         0.000818\n",
       "страна         0.000816\n",
       "Name: Malenkii_prints, Length: 1998, dtype: float64"
      ]
     },
     "execution_count": 447,
     "metadata": {},
     "output_type": "execute_result"
    }
   ],
   "source": [
    "# посмотрим в порядке убывания, заодно проверим, что нули действительно не вошли\n",
    "unempty_values_lemmas.sort_values(ascending=False)"
   ]
  },
  {
   "cell_type": "markdown",
   "id": "b24c3ed4",
   "metadata": {},
   "source": [
    "*Теперь проверяем разницу между исходным списком и тем, которые получился в результате процедуры подсчета  tfidf*"
   ]
  },
  {
   "cell_type": "code",
   "execution_count": 448,
   "id": "5b4e8b29",
   "metadata": {},
   "outputs": [],
   "source": [
    "# превращаем упорядоченный Series в словарь\n",
    "prince_lemmas_dict = unempty_values_lemmas.sort_values(ascending=False).to_dict()"
   ]
  },
  {
   "cell_type": "code",
   "execution_count": 449,
   "id": "3a7e8dbb",
   "metadata": {},
   "outputs": [
    {
     "data": {
      "text/plain": [
       "dict"
      ]
     },
     "execution_count": 449,
     "metadata": {},
     "output_type": "execute_result"
    }
   ],
   "source": [
    "# получилось? да\n",
    "type(prince_lemmas_dict)"
   ]
  },
  {
   "cell_type": "code",
   "execution_count": 450,
   "id": "e1b8b3a5",
   "metadata": {},
   "outputs": [
    {
     "data": {
      "text/plain": [
       "['я',\n",
       " 'принц',\n",
       " 'маленький',\n",
       " 'ты',\n",
       " 'он',\n",
       " 'не',\n",
       " 'барашек',\n",
       " 'сказать',\n",
       " 'планета',\n",
       " 'быть',\n",
       " 'что',\n",
       " 'это',\n",
       " 'цветок',\n",
       " 'лис',\n",
       " 'звезда',\n",
       " 'мой',\n",
       " 'они',\n",
       " 'а',\n",
       " 'но',\n",
       " 'фонарщик',\n",
       " 'у',\n",
       " 'король',\n",
       " 'очень',\n",
       " 'она',\n",
       " 'как',\n",
       " 'географ',\n",
       " 'баобаб',\n",
       " 'спрашивать',\n",
       " 'рисовать',\n",
       " 'да',\n",
       " 'роза',\n",
       " 'вы',\n",
       " 'вот',\n",
       " 'взрослый',\n",
       " 'с',\n",
       " 'отвечать',\n",
       " 'все',\n",
       " 'приручать',\n",
       " 'один',\n",
       " 'когда',\n",
       " 'если',\n",
       " 'так',\n",
       " 'весь',\n",
       " 'пустыня',\n",
       " 'ведь',\n",
       " 'шип',\n",
       " 'видеть',\n",
       " 'такой',\n",
       " 'знать',\n",
       " 'этот',\n",
       " 'вулкан',\n",
       " 'нет',\n",
       " 'потом',\n",
       " 'же',\n",
       " 'человек',\n",
       " 'твой',\n",
       " 'друг',\n",
       " 'день',\n",
       " 'змея',\n",
       " 'мочь',\n",
       " 'добрый',\n",
       " 'смотреть',\n",
       " 'бы',\n",
       " 'честолюбец',\n",
       " 'удав',\n",
       " 'чтобы',\n",
       " 'понимать',\n",
       " 'себя',\n",
       " 'пьяница',\n",
       " 'совсем',\n",
       " 'еще',\n",
       " 'о',\n",
       " 'планетка',\n",
       " 'подумать',\n",
       " 'пятьсот',\n",
       " 'солнце',\n",
       " 'только',\n",
       " 'колодец',\n",
       " 'свой',\n",
       " 'фонарь',\n",
       " 'путешественник',\n",
       " 'ни',\n",
       " 'цветы',\n",
       " 'рисунок',\n",
       " 'малыш',\n",
       " 'никогда',\n",
       " 'раз',\n",
       " 'засмеяться',\n",
       " 'песок',\n",
       " 'то',\n",
       " 'земля',\n",
       " 'стрелочник',\n",
       " 'от',\n",
       " 'потухать',\n",
       " 'прибавлять',\n",
       " 'для',\n",
       " 'тоже',\n",
       " 'уговор',\n",
       " 'гм',\n",
       " 'астероид',\n",
       " 'смеяться',\n",
       " 'ничто',\n",
       " 'другой',\n",
       " 'тогда',\n",
       " 'за',\n",
       " 'к',\n",
       " 'надо',\n",
       " 'ну',\n",
       " 'повелевать',\n",
       " 'хотеть',\n",
       " 'минута',\n",
       " 'серьезный',\n",
       " 'стать',\n",
       " 'конечно',\n",
       " 'кто',\n",
       " 'ночь',\n",
       " 'который',\n",
       " 'любить',\n",
       " 'поглядеть',\n",
       " 'вода',\n",
       " 'самый',\n",
       " 'точно',\n",
       " 'говорить',\n",
       " 'какой',\n",
       " 'казаться',\n",
       " 'трава',\n",
       " 'миллион',\n",
       " 'жить',\n",
       " 'там',\n",
       " 'делать',\n",
       " 'ворот',\n",
       " 'колпак',\n",
       " 'промолвить',\n",
       " 'восклицать',\n",
       " 'приходить',\n",
       " 'возражать',\n",
       " 'зевать',\n",
       " 'тот',\n",
       " 'опять',\n",
       " 'потому',\n",
       " 'тут',\n",
       " 'даже',\n",
       " 'искать',\n",
       " 'садиться',\n",
       " 'небо',\n",
       " 'гасить',\n",
       " 'три',\n",
       " 'вечер',\n",
       " 'никто',\n",
       " 'двадцать',\n",
       " 'вдруг',\n",
       " 'уж',\n",
       " 'забывать',\n",
       " 'прочищать',\n",
       " 'тысяча',\n",
       " 'мы',\n",
       " 'красивый',\n",
       " 'глаз',\n",
       " 'больше',\n",
       " 'словно',\n",
       " 'намордник',\n",
       " 'снова',\n",
       " 'узнавать',\n",
       " 'владеть',\n",
       " 'сердце',\n",
       " 'закат',\n",
       " 'год',\n",
       " 'шесть',\n",
       " 'жажда',\n",
       " 'делец',\n",
       " 'гора',\n",
       " 'шляпа',\n",
       " 'здесь',\n",
       " 'час',\n",
       " 'становиться',\n",
       " 'золотой',\n",
       " 'прощать',\n",
       " 'уже',\n",
       " 'хороший',\n",
       " 'плакать',\n",
       " 'спать',\n",
       " 'краснеть',\n",
       " 'где',\n",
       " 'из',\n",
       " 'уметь',\n",
       " 'старый',\n",
       " 'место',\n",
       " 'родник',\n",
       " 'просто',\n",
       " 'забавный',\n",
       " 'слышать',\n",
       " 'свет',\n",
       " 'два',\n",
       " 'рад',\n",
       " 'путь',\n",
       " 'ребенок',\n",
       " 'хотеться',\n",
       " 'крохотный',\n",
       " 'ящик',\n",
       " 'приходиться',\n",
       " 'счастливый',\n",
       " 'куст',\n",
       " 'итак',\n",
       " 'повторять',\n",
       " '612',\n",
       " 'росток',\n",
       " 'умолкать',\n",
       " 'или',\n",
       " 'заход',\n",
       " 'далеко',\n",
       " 'мало',\n",
       " 'ответ',\n",
       " 'ли',\n",
       " 'тигр',\n",
       " 'умирать',\n",
       " 'утро',\n",
       " 'почему',\n",
       " 'бубенец',\n",
       " 'совестно',\n",
       " 'важный',\n",
       " 'нужный',\n",
       " 'черед',\n",
       " 'бояться',\n",
       " 'есть',\n",
       " 'дело',\n",
       " 'слишком',\n",
       " 'голова',\n",
       " 'много',\n",
       " 'самолет',\n",
       " 'семя',\n",
       " 'по',\n",
       " 'рассказывать',\n",
       " 'слон',\n",
       " 'ужасно',\n",
       " 'однажды',\n",
       " 'зачем',\n",
       " 'значит',\n",
       " 'похожий',\n",
       " 'четыре',\n",
       " 'все-таки',\n",
       " 'география',\n",
       " 'зажигать',\n",
       " 'странствовать',\n",
       " 'большой',\n",
       " 'уносить',\n",
       " 'ветер',\n",
       " 'сам',\n",
       " 'лисица',\n",
       " 'болт',\n",
       " 'раскланиваться',\n",
       " 'снаружи',\n",
       " 'курица',\n",
       " 'пойти',\n",
       " 'идти',\n",
       " 'ваш',\n",
       " 'съедать',\n",
       " 'всегда',\n",
       " 'вернуться',\n",
       " 'целый',\n",
       " 'немного',\n",
       " 'правда',\n",
       " 'лепесток',\n",
       " 'стараться',\n",
       " 'потерпеть',\n",
       " 'странный',\n",
       " 'душа',\n",
       " 'поезд',\n",
       " 'выходить',\n",
       " 'захотеться',\n",
       " 'красавица',\n",
       " 'прекрасный',\n",
       " 'семь',\n",
       " 'наконец',\n",
       " 'замечать',\n",
       " 'шаг',\n",
       " 'объяснять',\n",
       " 'каждый',\n",
       " 'всякий',\n",
       " 'таинственный',\n",
       " 'пускаться',\n",
       " 'жизнь',\n",
       " 'судить',\n",
       " 'падать',\n",
       " 'хорошо',\n",
       " 'эфемерный',\n",
       " 'монарх',\n",
       " 'признаваться',\n",
       " 'откуда',\n",
       " 'изнутри',\n",
       " 'случаться',\n",
       " 'что-нибудь',\n",
       " 'стена',\n",
       " 'долго',\n",
       " 'оставаться',\n",
       " 'давать',\n",
       " 'находить',\n",
       " 'дом',\n",
       " 'скоро',\n",
       " 'думать',\n",
       " 'верт',\n",
       " 'арифметика',\n",
       " 'миля',\n",
       " 'грустный',\n",
       " 'картинка',\n",
       " 'удивляться',\n",
       " 'наверно',\n",
       " 'величество',\n",
       " 'страшный',\n",
       " 'будто',\n",
       " 'должен',\n",
       " 'слово',\n",
       " 'время',\n",
       " 'рука',\n",
       " 'простой',\n",
       " 'поливать',\n",
       " 'покидать',\n",
       " 'слушать',\n",
       " 'полюбить',\n",
       " 'бабочка',\n",
       " 'астроном',\n",
       " 'книжка',\n",
       " 'где-то',\n",
       " 'леон',\n",
       " 'засвечивать',\n",
       " 'помедлить',\n",
       " 'сто',\n",
       " 'куда',\n",
       " 'единственный',\n",
       " 'можно',\n",
       " 'просить',\n",
       " 'отправляться',\n",
       " 'уставать',\n",
       " 'книга',\n",
       " 'одиннадцать',\n",
       " 'подданный',\n",
       " 'первый',\n",
       " 'океан',\n",
       " 'сорок',\n",
       " 'равно',\n",
       " 'разве',\n",
       " 'хватать',\n",
       " 'пока',\n",
       " 'ширма',\n",
       " 'шевельнуться',\n",
       " 'пилюля',\n",
       " 'гордый',\n",
       " 'веревка',\n",
       " 'накрывать',\n",
       " 'молчать',\n",
       " 'сперва',\n",
       " 'здравствовать',\n",
       " 'какой-нибудь',\n",
       " 'утешаться',\n",
       " 'коготь',\n",
       " 'номер-знак',\n",
       " 'беда',\n",
       " 'карандаш',\n",
       " 'любоваться',\n",
       " 'тридцать',\n",
       " 'ведро',\n",
       " 'стеклянный',\n",
       " 'мотор',\n",
       " 'серьезно',\n",
       " 'колос',\n",
       " 'зевнуть',\n",
       " 'больно',\n",
       " 'воображать',\n",
       " 'близко',\n",
       " 'вновь',\n",
       " 'ах',\n",
       " 'мальчик',\n",
       " 'трудный',\n",
       " 'прилетать',\n",
       " 'пять',\n",
       " 'ладоши',\n",
       " 'лишь',\n",
       " 'пить',\n",
       " 'мир',\n",
       " 'глядеть',\n",
       " 'рассердиться',\n",
       " 'чудесный',\n",
       " 'вздыхать',\n",
       " 'отчего',\n",
       " 'цифра',\n",
       " 'заходить',\n",
       " 'прямо',\n",
       " 'исполняться',\n",
       " 'отдавать',\n",
       " 'жаль',\n",
       " 'когда-то',\n",
       " 'продолжать',\n",
       " 'что-то',\n",
       " 'про',\n",
       " 'расти',\n",
       " 'пожалуйста',\n",
       " 'занимать',\n",
       " 'повиноваться',\n",
       " 'верный',\n",
       " 'назад',\n",
       " 'до',\n",
       " 'вовремя',\n",
       " 'над',\n",
       " 'смущаться',\n",
       " 'полезный',\n",
       " 'тихо',\n",
       " 'подарок',\n",
       " 'печальный',\n",
       " 'пятьдесят',\n",
       " 'величественный',\n",
       " 'ка',\n",
       " 'уснуть',\n",
       " 'отдыхать',\n",
       " 'выпивать',\n",
       " 'заговаривать',\n",
       " 'неужели',\n",
       " 'кто-нибудь',\n",
       " 'народ',\n",
       " 'молоток',\n",
       " 'возвращаться',\n",
       " 'интересный',\n",
       " 'генерал',\n",
       " 'разумный',\n",
       " 'сжиматься',\n",
       " 'скромно',\n",
       " 'править',\n",
       " 'волос',\n",
       " 'неделя',\n",
       " 'знакомиться',\n",
       " 'жилье',\n",
       " 'видать',\n",
       " 'подружиться',\n",
       " 'ускользать',\n",
       " 'напиваться',\n",
       " 'карман',\n",
       " 'деловой',\n",
       " 'вспоминать',\n",
       " 'значить',\n",
       " 'старик',\n",
       " 'сколько',\n",
       " 'одинаковый',\n",
       " 'пора',\n",
       " 'гром',\n",
       " 'рассвет',\n",
       " 'советовать',\n",
       " 'открывать',\n",
       " 'обряд',\n",
       " 'понемногу',\n",
       " 'попадать',\n",
       " 'охотник',\n",
       " 'эхо',\n",
       " 'поднимать',\n",
       " 'работа',\n",
       " 'скорый',\n",
       " 'дома',\n",
       " 'столько',\n",
       " 'разглядывать',\n",
       " 'плечо',\n",
       " 'помнить',\n",
       " 'торговец',\n",
       " 'откликаться',\n",
       " 'горностаевый',\n",
       " 'правописание',\n",
       " 'под',\n",
       " 'сверкать',\n",
       " 'крыса',\n",
       " 'послушать',\n",
       " 'терпение',\n",
       " 'восхищаться',\n",
       " 'оно',\n",
       " 'являться',\n",
       " 'никакой',\n",
       " 'неведомый',\n",
       " 'хрупкий',\n",
       " 'франция',\n",
       " 'главное',\n",
       " 'сидеть',\n",
       " 'дурной',\n",
       " 'зверь',\n",
       " 'тому',\n",
       " 'залетать',\n",
       " 'кустик',\n",
       " 'почитатель',\n",
       " 'лентяй',\n",
       " 'змейка',\n",
       " 'итого',\n",
       " 'напугаться',\n",
       " 'после',\n",
       " 'окно',\n",
       " 'довольно',\n",
       " 'бывать',\n",
       " 'кроме',\n",
       " 'светиться',\n",
       " 'чем',\n",
       " 'открытие',\n",
       " 'привязывать',\n",
       " 'африка',\n",
       " 'тщеславный',\n",
       " 'по-твоему',\n",
       " 'жалить',\n",
       " 'выпалывать',\n",
       " 'оставлять',\n",
       " 'начинать',\n",
       " 'розовый',\n",
       " 'всего',\n",
       " 'успокаиваться',\n",
       " 'отзываться',\n",
       " 'разу',\n",
       " 'исправлять',\n",
       " 'толк',\n",
       " 'без',\n",
       " 'благоприятный',\n",
       " 'брать',\n",
       " 'нелепый',\n",
       " 'шестьсот',\n",
       " 'скрипучий',\n",
       " 'звонко',\n",
       " 'храбрость',\n",
       " 'заботливо',\n",
       " 'беспрекословно',\n",
       " 'неслышно',\n",
       " 'бутон',\n",
       " 'наугад',\n",
       " 'отступаться',\n",
       " 'стул',\n",
       " 'прежде',\n",
       " 'смешной',\n",
       " 'тянуться',\n",
       " 'сегодня',\n",
       " 'одинокий',\n",
       " 'нигде',\n",
       " 'толстый',\n",
       " 'глупый',\n",
       " 'запоминать',\n",
       " 'завладевать',\n",
       " 'узы',\n",
       " 'извержение',\n",
       " 'повеление',\n",
       " 'гостья',\n",
       " 'житься',\n",
       " 'простодушно',\n",
       " 'сахара',\n",
       " 'сердито',\n",
       " 'взглядывать',\n",
       " 'долгий',\n",
       " 'решать',\n",
       " 'из-за',\n",
       " 'кашлянуть',\n",
       " 'светильник',\n",
       " 'смущенный',\n",
       " 'семьсот',\n",
       " 'просто-напросто',\n",
       " 'толстенный',\n",
       " 'починять',\n",
       " 'мантия',\n",
       " 'багровый',\n",
       " 'приказание',\n",
       " 'четыреста',\n",
       " 'поутру',\n",
       " 'баран',\n",
       " 'простодушный',\n",
       " 'краса',\n",
       " 'приказ',\n",
       " 'дарить',\n",
       " 'смерть',\n",
       " 'соглашаться',\n",
       " 'жалеть',\n",
       " 'истина',\n",
       " 'передвигать',\n",
       " 'могущество',\n",
       " 'поспешно',\n",
       " 'вправду',\n",
       " 'уходить',\n",
       " 'бросаться',\n",
       " 'улыбаться',\n",
       " 'секрет',\n",
       " 'доказательство',\n",
       " 'просыпаться',\n",
       " 'неторопливо',\n",
       " 'додумываться',\n",
       " 'чайка',\n",
       " 'разгуливать',\n",
       " 'догадываться',\n",
       " 'скрываться',\n",
       " 'внимательно',\n",
       " 'ужасный',\n",
       " 'охотиться',\n",
       " 'одетый',\n",
       " 'утомительный',\n",
       " 'раздумье',\n",
       " 'глоток',\n",
       " 'гусеница',\n",
       " 'пускай',\n",
       " 'сюда',\n",
       " 'корень',\n",
       " 'вещь',\n",
       " 'полный',\n",
       " 'сад',\n",
       " 'сон',\n",
       " 'двое',\n",
       " 'замолчать',\n",
       " 'помолчать',\n",
       " 'сквозняк',\n",
       " 'плохой',\n",
       " 'вина',\n",
       " 'непостижимый',\n",
       " 'печально',\n",
       " 'растрепывать',\n",
       " 'тихий',\n",
       " 'посещать',\n",
       " 'ждать',\n",
       " 'камень',\n",
       " 'виноватый',\n",
       " 'записывать',\n",
       " 'наклоняться',\n",
       " 'недоумевать',\n",
       " 'грусть',\n",
       " 'аромат',\n",
       " 'иметь',\n",
       " 'доставлять',\n",
       " 'почувствовать',\n",
       " 'радость',\n",
       " 'джунгли',\n",
       " 'издали',\n",
       " 'рог',\n",
       " 'растерянный',\n",
       " 'тихонько',\n",
       " 'река',\n",
       " 'порядочный',\n",
       " 'нежность',\n",
       " 'теперь',\n",
       " 'рассказ',\n",
       " 'полюс',\n",
       " 'яд',\n",
       " 'удовольствие',\n",
       " 'давно',\n",
       " 'напрасно',\n",
       " 'темнеть',\n",
       " 'пение',\n",
       " 'задумчиво',\n",
       " 'телескоп',\n",
       " 'утешать',\n",
       " 'проглатывать',\n",
       " 'назначать',\n",
       " 'например',\n",
       " 'ибо',\n",
       " 'пустой',\n",
       " 'издалека',\n",
       " 'загораться',\n",
       " 'сокровище',\n",
       " 'путешествовать',\n",
       " 'класть',\n",
       " 'медленно',\n",
       " 'заплакать',\n",
       " 'сметь',\n",
       " 'действовать',\n",
       " 'носить',\n",
       " 'понятие',\n",
       " 'скала',\n",
       " 'игла',\n",
       " 'пшеница',\n",
       " 'беречь',\n",
       " 'раскрываться',\n",
       " 'номер',\n",
       " 'америка',\n",
       " 'море',\n",
       " 'ради',\n",
       " 'хлопать',\n",
       " 'немножко',\n",
       " 'деревенский',\n",
       " 'огромный',\n",
       " 'богатый',\n",
       " 'счастье',\n",
       " 'гаснуть',\n",
       " 'чересчур',\n",
       " 'платок',\n",
       " 'неизменный',\n",
       " 'опасность',\n",
       " 'ничуть',\n",
       " 'гриб',\n",
       " 'пригождаться',\n",
       " 'новый',\n",
       " 'вежливо',\n",
       " 'жалкий',\n",
       " 'проверять',\n",
       " 'слабый',\n",
       " 'иной',\n",
       " 'танцевать',\n",
       " 'оболочка',\n",
       " 'исчезать',\n",
       " 'встречать',\n",
       " 'поразительный',\n",
       " 'бумажка',\n",
       " 'защищаться',\n",
       " 'плохо',\n",
       " 'славный',\n",
       " 'поистине',\n",
       " 'миновать',\n",
       " 'смертный',\n",
       " 'среди',\n",
       " 'рождаться',\n",
       " 'пусть',\n",
       " 'наставать',\n",
       " 'вырывать',\n",
       " 'великолепный',\n",
       " 'цветной',\n",
       " 'нога',\n",
       " 'подтверждать',\n",
       " 'разводить',\n",
       " 'теряться',\n",
       " 'тяжкий',\n",
       " 'существовать',\n",
       " 'никак',\n",
       " 'посадка',\n",
       " 'турецкий',\n",
       " 'двенадцать',\n",
       " 'капля',\n",
       " 'пожимать',\n",
       " 'молчание',\n",
       " 'оглядываться',\n",
       " 'почитать',\n",
       " 'неудобный',\n",
       " 'репутация',\n",
       " 'последний',\n",
       " 'луна',\n",
       " 'несчастье',\n",
       " 'дорогой',\n",
       " 'вопрос',\n",
       " 'освещать',\n",
       " 'разглядеть',\n",
       " 'чувствовать',\n",
       " 'показывать',\n",
       " 'писать',\n",
       " 'будить',\n",
       " 'молча',\n",
       " 'вон',\n",
       " 'непременно',\n",
       " 'сдерживать',\n",
       " 'приниматься',\n",
       " 'уголок',\n",
       " 'штука',\n",
       " 'мягко',\n",
       " 'желать',\n",
       " 'торговать',\n",
       " 'подождать',\n",
       " 'ходить',\n",
       " 'когда-нибудь',\n",
       " 'дрожать',\n",
       " 'извинять',\n",
       " 'почти',\n",
       " 'голос',\n",
       " 'по-другому',\n",
       " 'заносить',\n",
       " 'перед',\n",
       " 'блестящий',\n",
       " 'попадаться',\n",
       " 'представлять',\n",
       " 'появляться',\n",
       " 'злой',\n",
       " 'докладывать',\n",
       " 'отличать',\n",
       " 'загадка',\n",
       " 'догонять',\n",
       " 'впервые',\n",
       " 'лоб',\n",
       " 'сначала',\n",
       " 'покупать',\n",
       " 'терпеть',\n",
       " 'вселенная',\n",
       " 'трагедия',\n",
       " 'пассажир',\n",
       " 'по-моему',\n",
       " 'засыпать',\n",
       " 'улыбка',\n",
       " 'скучный',\n",
       " 'подряд',\n",
       " 'дорога',\n",
       " 'вокруг',\n",
       " 'несчастный',\n",
       " 'луч',\n",
       " 'голод',\n",
       " 'каменный',\n",
       " 'вредный',\n",
       " 'шутка',\n",
       " 'сильно',\n",
       " 'губа',\n",
       " 'покой',\n",
       " 'пятнадцать',\n",
       " 'краска',\n",
       " 'милый',\n",
       " 'тяжелый',\n",
       " 'четверг',\n",
       " 'красота',\n",
       " 'летать',\n",
       " 'кто-то',\n",
       " 'шея',\n",
       " 'ошибаться',\n",
       " 'гордость',\n",
       " 'желтый',\n",
       " 'портрет',\n",
       " 'собираться',\n",
       " 'иногда',\n",
       " 'при',\n",
       " 'птица',\n",
       " 'подозревать',\n",
       " 'художник',\n",
       " 'труд',\n",
       " 'колено',\n",
       " 'музыка',\n",
       " 'солнечный',\n",
       " 'доставать',\n",
       " 'господин',\n",
       " 'захотеть',\n",
       " 'подробно',\n",
       " 'снег',\n",
       " 'отказываться',\n",
       " 'заглядывать',\n",
       " 'затем',\n",
       " 'оборачиваться',\n",
       " 'ровно',\n",
       " 'подбирать',\n",
       " 'морской',\n",
       " 'спешить',\n",
       " 'ухо',\n",
       " 'сейчас',\n",
       " 'навсегда',\n",
       " 'звук',\n",
       " 'исполнять',\n",
       " 'третий',\n",
       " 'вечный',\n",
       " 'случайный',\n",
       " 'китай',\n",
       " 'угодно',\n",
       " 'длиться',\n",
       " '1',\n",
       " 'право',\n",
       " 'требовать',\n",
       " 'завтра',\n",
       " 'сразу',\n",
       " 'грозить',\n",
       " 'поверить',\n",
       " 'готовиться',\n",
       " 'дерево',\n",
       " 'нельзя',\n",
       " 'мимо',\n",
       " 'скучновато',\n",
       " 'скрестись',\n",
       " 'заглатывать',\n",
       " 'просиять',\n",
       " 'низачем',\n",
       " 'скучноватый',\n",
       " '3251',\n",
       " '326',\n",
       " 'хвастать',\n",
       " 'флюгер',\n",
       " 'галь',\n",
       " 'закашлять',\n",
       " 'пурпур',\n",
       " 'нерешимость',\n",
       " 'разозлиться',\n",
       " 'раскашливаться',\n",
       " 'непокорство',\n",
       " 'горностай',\n",
       " '325',\n",
       " 'рассудительно',\n",
       " 'нацарапывать',\n",
       " 'встрепанный',\n",
       " 'месса',\n",
       " 'былинка',\n",
       " 'отращивать',\n",
       " 'шелест',\n",
       " 'оледенить',\n",
       " 'по-турецки',\n",
       " 'подкашиваться',\n",
       " 'позевывать',\n",
       " 'измучиваться',\n",
       " 'помучить',\n",
       " 'понемножку',\n",
       " 'тряпочный',\n",
       " 'xxiii',\n",
       " 'втихомолку',\n",
       " 'xxiv',\n",
       " 'xxv',\n",
       " 'xxvi',\n",
       " 'ворчливо',\n",
       " 'обвиваться',\n",
       " 'азбучный',\n",
       " 'престарый',\n",
       " 'нравоучение',\n",
       " 'привирать',\n",
       " 'бридж',\n",
       " 'двоиться',\n",
       " 'лицо',\n",
       " 'тех',\n",
       " 'убеждать',\n",
       " 'быстро',\n",
       " 'помогать',\n",
       " 'палец',\n",
       " 'предыдущий',\n",
       " 'нравиться',\n",
       " 'вид',\n",
       " 'пятый',\n",
       " 'огонь',\n",
       " 'занятие',\n",
       " 'четвертый',\n",
       " 'нечто',\n",
       " 'получать',\n",
       " 'хозяин',\n",
       " 'домой',\n",
       " 'звать',\n",
       " 'видно',\n",
       " 'поражать',\n",
       " 'город',\n",
       " 'прибывать',\n",
       " 'холодный',\n",
       " 'условие',\n",
       " 'южный',\n",
       " 'лишний',\n",
       " 'вынужденный',\n",
       " 'история',\n",
       " 'нерешительно',\n",
       " 'заструиться',\n",
       " 'размечтаться',\n",
       " 'разузнавать',\n",
       " 'голосок',\n",
       " '328',\n",
       " 'очинить',\n",
       " 'неподатливый',\n",
       " 'наскучивать',\n",
       " 'обидчивый',\n",
       " 'докучать',\n",
       " 'рассветать',\n",
       " 'наобум',\n",
       " 'разрыдаться',\n",
       " 'ввысь',\n",
       " 'насилу',\n",
       " 'волнистый',\n",
       " 'беззаботно',\n",
       " 'полновластный',\n",
       " 'полночный',\n",
       " 'вдребезги',\n",
       " 'лейка',\n",
       " 'зоркий',\n",
       " 'отвертывать',\n",
       " 'xxii',\n",
       " 'дослушивать',\n",
       " '327',\n",
       " 'благоухание',\n",
       " 'кокетка',\n",
       " 'разочарованно',\n",
       " 'простужать',\n",
       " 'загрустить',\n",
       " 'мешкать',\n",
       " 'баюкать',\n",
       " 'лихорадить',\n",
       " 'полупризнание',\n",
       " 'завидеть',\n",
       " 'безвестный',\n",
       " '329',\n",
       " 'плот',\n",
       " 'прихорашиваться',\n",
       " 'смазочный',\n",
       " 'герань',\n",
       " 'цвет',\n",
       " 'скрывать',\n",
       " 'разумеется',\n",
       " 'воля',\n",
       " 'дух',\n",
       " 'какой-то',\n",
       " 'пробовать',\n",
       " 'тратить',\n",
       " 'удивительный',\n",
       " 'едва',\n",
       " 'приводить',\n",
       " 'край',\n",
       " 'подстреливать',\n",
       " 'щиколотка',\n",
       " 'перепачкать',\n",
       " 'полуоткрытый',\n",
       " 'перелетный',\n",
       " 'вздумать',\n",
       " 'пересыхать',\n",
       " 'перепутываться',\n",
       " 'озаряться',\n",
       " 'погрешать',\n",
       " 'переставлять',\n",
       " 'клад',\n",
       " 'искоса',\n",
       " 'колечко',\n",
       " 'антуан',\n",
       " 'султан',\n",
       " 'прогреметь',\n",
       " 'нечаянно',\n",
       " 'глотнуть',\n",
       " 'негритянский',\n",
       " 'уф',\n",
       " 'дюна',\n",
       " 'несмышленый',\n",
       " 'недвижимый',\n",
       " 'сент-экзюпери',\n",
       " 'непослушание',\n",
       " ...]"
      ]
     },
     "execution_count": 450,
     "metadata": {},
     "output_type": "execute_result"
    }
   ],
   "source": [
    "# из словаря можно сделать список ключей - это как раз леммы после \n",
    "list(prince_lemmas_dict.keys())"
   ]
  },
  {
   "cell_type": "code",
   "execution_count": 504,
   "id": "029d42c5",
   "metadata": {},
   "outputs": [
    {
     "name": "stdout",
     "output_type": "stream",
     "text": [
      "['я', 'принц', 'маленький', 'ты', 'он', 'не', 'барашек', 'сказать', 'планета', 'быть', 'что', 'это', 'цветок', 'лис', 'звезда', 'мой', 'они', 'а', 'но', 'фонарщик', 'у', 'король', 'очень', 'она', 'как', 'географ', 'баобаб', 'спрашивать', 'рисовать', 'да', 'роза', 'вы', 'вот', 'взрослый', 'с', 'отвечать', 'все', 'приручать', 'один', 'когда', 'если', 'так', 'весь', 'пустыня', 'ведь', 'шип', 'видеть', 'такой', 'знать']\n"
     ]
    }
   ],
   "source": [
    "print(list(prince_lemmas_dict.keys())[0:49])"
   ]
  },
  {
   "cell_type": "code",
   "execution_count": 452,
   "id": "32a9807c",
   "metadata": {},
   "outputs": [
    {
     "data": {
      "text/plain": [
       "[('я', 0.5133337108908528),\n",
       " ('принц', 0.42161767064337197),\n",
       " ('маленький', 0.26388112402781894),\n",
       " ('ты', 0.23829889529972306),\n",
       " ('он', 0.22704075601343926),\n",
       " ('не', 0.1932638219690302),\n",
       " ('барашек', 0.12708107616489045),\n",
       " ('сказать', 0.11944612413624511),\n",
       " ('планета', 0.11917460970080825),\n",
       " ('быть', 0.11156584553279639),\n",
       " ('что', 0.10737818631814713),\n",
       " ('это', 0.09787468079362659),\n",
       " ('цветок', 0.09458400294885205),\n",
       " ('лис', 0.09046537959685315),\n",
       " ('звезда', 0.08930287333411767),\n",
       " ('мой', 0.08894579240268662),\n",
       " ('они', 0.0851341670197711),\n",
       " ('а', 0.08282557530336855),\n",
       " ('но', 0.08043676922519423),\n",
       " ('фонарщик', 0.07515330174754575)]"
      ]
     },
     "execution_count": 452,
     "metadata": {},
     "output_type": "execute_result"
    }
   ],
   "source": [
    "list(prince_lemmas_dict.items())[0:20]"
   ]
  },
  {
   "cell_type": "code",
   "execution_count": 490,
   "id": "3c573a5c",
   "metadata": {},
   "outputs": [
    {
     "data": {
      "text/plain": [
       "['антуан',\n",
       " 'де',\n",
       " 'сент-экзюпери',\n",
       " 'маленький',\n",
       " 'принц',\n",
       " 'нора',\n",
       " 'галь',\n",
       " 'перевод',\n",
       " 'леон',\n",
       " 'верт']"
      ]
     },
     "execution_count": 490,
     "metadata": {},
     "output_type": "execute_result"
    }
   ],
   "source": [
    "# леммы до были капитализированы, если хотим сравнивать, надо сделать строчными\n",
    "def all_lower(my_list):\n",
    "    return [x.lower() for x in my_list]\n",
    "\n",
    "all_lower(prince_lemmas)[0:10]"
   ]
  },
  {
   "cell_type": "code",
   "execution_count": 454,
   "id": "173f5d72",
   "metadata": {},
   "outputs": [
    {
     "data": {
      "text/plain": [
       "24"
      ]
     },
     "execution_count": 454,
     "metadata": {},
     "output_type": "execute_result"
    }
   ],
   "source": [
    "# посмотрим, есть ли разница, для этого нужно сделать список множеством - убрать повторяющиеся\n",
    "difference = list(set(all_lower(prince_lemmas)) - set(list(prince_lemmas_dict.keys())))\n",
    "len(difference)"
   ]
  },
  {
   "cell_type": "code",
   "execution_count": 455,
   "id": "2160ffad",
   "metadata": {},
   "outputs": [
    {
     "name": "stdout",
     "output_type": "stream",
     "text": [
      "['со стороны', 'так как', 'и', 'все же', 'как раз', 'на', 'так и', 'в', 'так что', 'все равно', 'потому что', 'лишь бы', 'как будто', 'а также', 'что ни на есть', 'а то и', 'ни разу', 'тому назад', 'прежде всего', 'в конце концов', 'как только', 'как если бы', 'с тех пор как', 'то есть']\n"
     ]
    }
   ],
   "source": [
    "# разница всего 36, можно их все посмотреть\n",
    "print(difference)"
   ]
  },
  {
   "cell_type": "markdown",
   "id": "029b16f5",
   "metadata": {},
   "source": [
    "* в разницу попали слова с пробелами (ими я пожертвую) и слова, которые вычеркнуты из-за  max_df = 0.9 \n",
    "(\"и\", \"на\", \"в\")"
   ]
  },
  {
   "cell_type": "code",
   "execution_count": 472,
   "id": "c0530e33",
   "metadata": {},
   "outputs": [],
   "source": [
    "# повторяем для max = 0.7\n",
    "tfidf_vectorizer_07 = TfidfVectorizer(token_pattern=r\"(?u)\\b\\w+-?\\w*\\b\", max_df = 0.7)"
   ]
  },
  {
   "cell_type": "code",
   "execution_count": 473,
   "id": "2f3698f1",
   "metadata": {},
   "outputs": [],
   "source": [
    "tfidf_07 = tfidf_vectorizer_07.fit_transform(texts_in_corpus_lemmas)"
   ]
  },
  {
   "cell_type": "code",
   "execution_count": 474,
   "id": "03ac9ed1",
   "metadata": {},
   "outputs": [
    {
     "data": {
      "text/plain": [
       "(1304, 55199)"
      ]
     },
     "execution_count": 474,
     "metadata": {},
     "output_type": "execute_result"
    }
   ],
   "source": [
    "# проверяем параметры - на 12 слов меньше\n",
    "tfidf_07.shape"
   ]
  },
  {
   "cell_type": "code",
   "execution_count": 475,
   "id": "dff74cdd",
   "metadata": {},
   "outputs": [
    {
     "data": {
      "text/plain": [
       "55199"
      ]
     },
     "execution_count": 475,
     "metadata": {},
     "output_type": "execute_result"
    }
   ],
   "source": [
    "words_07 = tfidf_vectorizer_07.get_feature_names_out()\n",
    "len(words_07)"
   ]
  },
  {
   "cell_type": "code",
   "execution_count": 476,
   "id": "2cf04d50",
   "metadata": {},
   "outputs": [],
   "source": [
    "# формируем таблицу со словами и именами файлов\n",
    "data = tfidf_07.todense().tolist() \n",
    "SynTagRusTable_07 = pd.DataFrame(data, columns = words_07, index = corpus_files_names)"
   ]
  },
  {
   "cell_type": "code",
   "execution_count": 477,
   "id": "035d7fa4",
   "metadata": {},
   "outputs": [],
   "source": [
    "# строка для нашего текста\n",
    "prints_tf_list_07 = SynTagRusTable_07.loc['Malenkii_prints']"
   ]
  },
  {
   "cell_type": "code",
   "execution_count": 478,
   "id": "c2f1c496",
   "metadata": {},
   "outputs": [],
   "source": [
    "# вычеркивавем нудевые значения\n",
    "unempty_values_lemmas_07 = prints_tf_list_07.loc[lambda x: x != 0.0]"
   ]
  },
  {
   "cell_type": "code",
   "execution_count": 483,
   "id": "f37a9079",
   "metadata": {},
   "outputs": [],
   "source": [
    "# превращаем упорядоченный Series в словарь\n",
    "prince_lemmas_dict_07 = unempty_values_lemmas_07.sort_values(ascending=False).to_dict()"
   ]
  },
  {
   "cell_type": "code",
   "execution_count": 485,
   "id": "e9144102",
   "metadata": {},
   "outputs": [
    {
     "data": {
      "text/plain": [
       "1986"
      ]
     },
     "execution_count": 485,
     "metadata": {},
     "output_type": "execute_result"
    }
   ],
   "source": [
    "len(prince_lemmas_dict_07.keys())"
   ]
  },
  {
   "cell_type": "code",
   "execution_count": 506,
   "id": "d8c75cef",
   "metadata": {},
   "outputs": [
    {
     "name": "stdout",
     "output_type": "stream",
     "text": [
      "['я', 'принц', 'маленький', 'ты', 'барашек', 'сказать', 'планета', 'цветок', 'лис', 'звезда', 'мой', 'они', 'а', 'но', 'фонарщик', 'у', 'король', 'очень', 'она', 'географ', 'баобаб', 'спрашивать', 'рисовать', 'да', 'роза', 'вы', 'вот', 'взрослый', 'отвечать', 'все', 'приручать', 'один', 'когда', 'если', 'так', 'весь', 'пустыня', 'ведь', 'шип', 'видеть', 'такой', 'знать', 'вулкан', 'нет', 'потом', 'же', 'человек', 'твой', 'друг']\n"
     ]
    }
   ],
   "source": [
    "print(list(prince_lemmas_dict_07.keys())[0:49])"
   ]
  },
  {
   "cell_type": "code",
   "execution_count": 498,
   "id": "24d38f1b",
   "metadata": {},
   "outputs": [
    {
     "data": {
      "text/plain": [
       "36"
      ]
     },
     "execution_count": 498,
     "metadata": {},
     "output_type": "execute_result"
    }
   ],
   "source": [
    "# посмотрим, есть ли разница, для этого нужно сделать список множеством - убрать повторяющиеся\n",
    "difference_07 = list(set(all_lower(prince_lemmas)) - set(list(prince_lemmas_dict_07.keys())))\n",
    "len(difference_07)"
   ]
  },
  {
   "cell_type": "code",
   "execution_count": 497,
   "id": "6a678693",
   "metadata": {},
   "outputs": [
    {
     "name": "stdout",
     "output_type": "stream",
     "text": [
      "['это', 'со стороны', 'так как', 'и', 'быть', 'все же', 'как раз', 'на', 'так и', 'в', 'так что', 'все равно', 'по', 'потому что', 'лишь бы', 'этот', 'как будто', 'из', 'а также', 'о', 'который', 'что ни на есть', 'а то и', 'не', 'что', 'ни разу', 'тому назад', 'прежде всего', 'в конце концов', 'как', 'как только', 'как если бы', 'он', 'с тех пор как', 'с', 'то есть']\n"
     ]
    }
   ],
   "source": [
    "print(difference_07)"
   ]
  },
  {
   "cell_type": "markdown",
   "id": "8c9eb5be",
   "metadata": {},
   "source": [
    "К списку с max = 0.9 (\"и\", \"на\", \"в\") добавились 'это',  'быть', 'по', 'этот', 'из', 'о', 'который', 'не', 'что', 'как', 'он', 'с'"
   ]
  },
  {
   "cell_type": "code",
   "execution_count": null,
   "id": "09623111",
   "metadata": {},
   "outputs": [],
   "source": []
  },
  {
   "cell_type": "markdown",
   "id": "138303d6",
   "metadata": {},
   "source": [
    "*сделаем картинку по 0.7"
   ]
  },
  {
   "cell_type": "code",
   "execution_count": 133,
   "id": "cf825944",
   "metadata": {},
   "outputs": [
    {
     "name": "stdout",
     "output_type": "stream",
     "text": [
      "Requirement already satisfied: wordcloud in /Library/Frameworks/Python.framework/Versions/3.10/lib/python3.10/site-packages (1.8.2.2)\n",
      "Requirement already satisfied: numpy>=1.6.1 in /Library/Frameworks/Python.framework/Versions/3.10/lib/python3.10/site-packages (from wordcloud) (1.24.2)\n",
      "Requirement already satisfied: pillow in /Library/Frameworks/Python.framework/Versions/3.10/lib/python3.10/site-packages (from wordcloud) (9.4.0)\n",
      "Requirement already satisfied: matplotlib in /Library/Frameworks/Python.framework/Versions/3.10/lib/python3.10/site-packages (from wordcloud) (3.7.1)\n",
      "Requirement already satisfied: kiwisolver>=1.0.1 in /Library/Frameworks/Python.framework/Versions/3.10/lib/python3.10/site-packages (from matplotlib->wordcloud) (1.4.4)\n",
      "Requirement already satisfied: cycler>=0.10 in /Library/Frameworks/Python.framework/Versions/3.10/lib/python3.10/site-packages (from matplotlib->wordcloud) (0.11.0)\n",
      "Requirement already satisfied: pyparsing>=2.3.1 in /Library/Frameworks/Python.framework/Versions/3.10/lib/python3.10/site-packages (from matplotlib->wordcloud) (3.0.9)\n",
      "Requirement already satisfied: contourpy>=1.0.1 in /Library/Frameworks/Python.framework/Versions/3.10/lib/python3.10/site-packages (from matplotlib->wordcloud) (1.0.7)\n",
      "Requirement already satisfied: fonttools>=4.22.0 in /Library/Frameworks/Python.framework/Versions/3.10/lib/python3.10/site-packages (from matplotlib->wordcloud) (4.39.0)\n",
      "Requirement already satisfied: python-dateutil>=2.7 in /Library/Frameworks/Python.framework/Versions/3.10/lib/python3.10/site-packages (from matplotlib->wordcloud) (2.8.2)\n",
      "Requirement already satisfied: packaging>=20.0 in /Library/Frameworks/Python.framework/Versions/3.10/lib/python3.10/site-packages (from matplotlib->wordcloud) (23.0)\n",
      "Requirement already satisfied: six>=1.5 in /Library/Frameworks/Python.framework/Versions/3.10/lib/python3.10/site-packages (from python-dateutil>=2.7->matplotlib->wordcloud) (1.16.0)\n",
      "\n",
      "\u001b[1m[\u001b[0m\u001b[34;49mnotice\u001b[0m\u001b[1;39;49m]\u001b[0m\u001b[39;49m A new release of pip available: \u001b[0m\u001b[31;49m22.3.1\u001b[0m\u001b[39;49m -> \u001b[0m\u001b[32;49m23.0.1\u001b[0m\n",
      "\u001b[1m[\u001b[0m\u001b[34;49mnotice\u001b[0m\u001b[1;39;49m]\u001b[0m\u001b[39;49m To update, run: \u001b[0m\u001b[32;49mpip3 install --upgrade pip\u001b[0m\n"
     ]
    }
   ],
   "source": [
    "!pip3 install wordcloud\n",
    "from wordcloud import WordCloud\n",
    "import matplotlib.pyplot as plt"
   ]
  },
  {
   "cell_type": "code",
   "execution_count": 237,
   "id": "8366a111",
   "metadata": {},
   "outputs": [
    {
     "data": {
      "image/png": "[encoded data removed]",
      "text/plain": [
       "<Figure size 640x480 with 1 Axes>"
      ]
     },
     "metadata": {},
     "output_type": "display_data"
    }
   ],
   "source": [
    "wordcloud = WordCloud().generate_from_frequencies(prince_lemmas_dict)\n",
    "plt.imshow(wordcloud) # Что изображаем\n",
    "plt.axis(\"off\") # Без подписей на осях\n",
    "plt.show() # показать изображение"
   ]
  },
  {
   "cell_type": "code",
   "execution_count": 511,
   "id": "af5c8cd1",
   "metadata": {},
   "outputs": [],
   "source": [
    "# а теперь попробуем красиво\n",
    "# комментарии и подробности тут: https://github.com/TFrolova/Project_CL_Python/blob/main/notebooks/creating%20a%20picture%20How.ipynb\n",
    "from os import path\n",
    "from PIL import Image\n",
    "import numpy as np\n",
    "import matplotlib.pyplot as plt\n",
    "import os"
   ]
  },
  {
   "cell_type": "code",
   "execution_count": 512,
   "id": "ac197d8c",
   "metadata": {},
   "outputs": [
    {
     "name": "stdout",
     "output_type": "stream",
     "text": [
      "[[0 0 0 ... 0 0 0]\n",
      " [0 0 0 ... 0 0 0]\n",
      " [0 0 0 ... 0 0 0]\n",
      " ...\n",
      " [0 0 0 ... 0 0 0]\n",
      " [0 0 0 ... 0 0 0]\n",
      " [0 0 0 ... 0 0 0]]\n"
     ]
    }
   ],
   "source": [
    "mask = np.array(Image.open(\"Prince_image.png\"))\n",
    "print(mask)"
   ]
  },
  {
   "cell_type": "code",
   "execution_count": 513,
   "id": "86f17ad0",
   "metadata": {},
   "outputs": [],
   "source": [
    "def transform_zeros(val):\n",
    "    if val == 0: \n",
    "       return 255\n",
    "    else:\n",
    "       return val"
   ]
  },
  {
   "cell_type": "code",
   "execution_count": 514,
   "id": "a394aa4e",
   "metadata": {},
   "outputs": [],
   "source": [
    "maskable_image = np.ndarray((mask.shape[0],mask.shape[1]), np.int32)"
   ]
  },
  {
   "cell_type": "code",
   "execution_count": 515,
   "id": "b9b44ea3",
   "metadata": {},
   "outputs": [],
   "source": [
    "for i in range(len(mask)):\n",
    "    maskable_image[i] = list(map(transform_zeros, mask[i]))"
   ]
  },
  {
   "cell_type": "code",
   "execution_count": 517,
   "id": "0570671d",
   "metadata": {},
   "outputs": [
    {
     "data": {
      "text/plain": [
       "<wordcloud.wordcloud.WordCloud at 0x2883bb310>"
      ]
     },
     "execution_count": 517,
     "metadata": {},
     "output_type": "execute_result"
    }
   ],
   "source": [
    "wc = WordCloud(background_color=\"white\", max_words=2000, mask=maskable_image,\n",
    "                contour_width=3, contour_color='steelblue')\n",
    "wc.generate_from_frequencies(prince_lemmas_dict)"
   ]
  },
  {
   "cell_type": "code",
   "execution_count": 518,
   "id": "397127cd",
   "metadata": {},
   "outputs": [
    {
     "data": {
      "image/png": "[encoded data removed]",
      "text/plain": [
       "<Figure size 640x480 with 1 Axes>"
      ]
     },
     "metadata": {},
     "output_type": "display_data"
    },
    {
     "data": {
      "image/png": "[encoded data removed]",
      "text/plain": [
       "<Figure size 640x480 with 1 Axes>"
      ]
     },
     "metadata": {},
     "output_type": "display_data"
    }
   ],
   "source": [
    "# show\n",
    "plt.imshow(wc, interpolation='bilinear')\n",
    "plt.axis(\"off\")\n",
    "plt.figure()\n",
    "plt.imshow(maskable_image, cmap=plt.cm.gray, interpolation='bilinear')\n",
    "plt.axis(\"off\")\n",
    "plt.show()"
   ]
  },
  {
   "cell_type": "code",
   "execution_count": null,
   "id": "4c0591b8",
   "metadata": {},
   "outputs": [],
   "source": []
  }
 ],
 "metadata": {
  "kernelspec": {
   "display_name": "Python 3 (ipykernel)",
   "language": "python",
   "name": "python3"
  },
  "language_info": {
   "codemirror_mode": {
    "name": "ipython",
    "version": 3
   },
   "file_extension": ".py",
   "mimetype": "text/x-python",
   "name": "python",
   "nbconvert_exporter": "python",
   "pygments_lexer": "ipython3",
   "version": "3.10.10"
  }
 },
 "nbformat": 4,
 "nbformat_minor": 5
}
